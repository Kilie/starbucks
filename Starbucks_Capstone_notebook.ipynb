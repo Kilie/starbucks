{
 "cells": [
  {
   "cell_type": "markdown",
   "metadata": {},
   "source": [
    "# Starbucks Capstone Challenge\n",
    "\n",
    "### Introduction\n",
    "\n",
    "This data set contains simulated data that mimics customer behavior on the Starbucks rewards mobile app. Once every few days, Starbucks sends out an offer to users of the mobile app. An offer can be merely an advertisement for a drink or an actual offer such as a discount or BOGO (buy one get one free). Some users might not receive any offer during certain weeks. \n",
    "\n",
    "Not all users receive the same offer, and that is the challenge to solve with this data set.\n",
    "\n",
    "Your task is to combine transaction, demographic and offer data to determine which demographic groups respond best to which offer type. This data set is a simplified version of the real Starbucks app because the underlying simulator only has one product whereas Starbucks actually sells dozens of products.\n",
    "\n",
    "Every offer has a validity period before the offer expires. As an example, a BOGO offer might be valid for only 5 days. You'll see in the data set that informational offers have a validity period even though these ads are merely providing information about a product; for example, if an informational offer has 7 days of validity, you can assume the customer is feeling the influence of the offer for 7 days after receiving the advertisement.\n",
    "\n",
    "You'll be given transactional data showing user purchases made on the app including the timestamp of purchase and the amount of money spent on a purchase. This transactional data also has a record for each offer that a user receives as well as a record for when a user actually views the offer. There are also records for when a user completes an offer. \n",
    "\n",
    "Keep in mind as well that someone using the app might make a purchase through the app without having received an offer or seen an offer.\n",
    "\n",
    "### Example\n",
    "\n",
    "To give an example, a user could receive a discount offer buy 10 dollars get 2 off on Monday. The offer is valid for 10 days from receipt. If the customer accumulates at least 10 dollars in purchases during the validity period, the customer completes the offer.\n",
    "\n",
    "However, there are a few things to watch out for in this data set. Customers do not opt into the offers that they receive; in other words, a user can receive an offer, never actually view the offer, and still complete the offer. For example, a user might receive the \"buy 10 dollars get 2 dollars off offer\", but the user never opens the offer during the 10 day validity period. The customer spends 15 dollars during those ten days. There will be an offer completion record in the data set; however, the customer was not influenced by the offer because the customer never viewed the offer.\n",
    "\n",
    "### Cleaning\n",
    "\n",
    "This makes data cleaning especially important and tricky.\n",
    "\n",
    "You'll also want to take into account that some demographic groups will make purchases even if they don't receive an offer. From a business perspective, if a customer is going to make a 10 dollar purchase without an offer anyway, you wouldn't want to send a buy 10 dollars get 2 dollars off offer. You'll want to try to assess what a certain demographic group will buy when not receiving any offers.\n",
    "\n",
    "### Final Advice\n",
    "\n",
    "Because this is a capstone project, you are free to analyze the data any way you see fit. For example, you could build a machine learning model that predicts how much someone will spend based on demographics and offer type. Or you could build a model that predicts whether or not someone will respond to an offer. Or, you don't need to build a machine learning model at all. You could develop a set of heuristics that determine what offer you should send to each customer (i.e., 75 percent of women customers who were 35 years old responded to offer A vs 40 percent from the same demographic to offer B, so send offer A)."
   ]
  },
  {
   "cell_type": "markdown",
   "metadata": {},
   "source": [
    "# Business Questions \n",
    "\n",
    "Target marketing is getting more and more popular nowadays due to its advantages compared to some traditional ways of marketing. By breaking the market into different segments, target marketing saves companies unnecessary effort and enables them to focus on the key segments consisting of customers who match the products and services the best. \n",
    "\n",
    "In order to be able to focus on key groups of the customers and adjust our marketing strategies according to different groups, we need to first identify the features of these different customer groups. Based on that, we can apply different marketing/advertizing strategies in a more group-based manner and thus achieve the best profit/marketing cost scenario.\n",
    "\n",
    "In this project, I will use the Starbucks's data to indentify different user groups and answer these two questions:\n",
    "\n",
    "1. Which groups of people are most responsive to each type of the three offers, including discount, buy one get one for free (bogo), and informational.\n",
    "\n",
    "\n",
    "2. How can we best present each type of offer i.e. email, mobile, web, or social, to the users? "
   ]
  },
  {
   "cell_type": "markdown",
   "metadata": {},
   "source": [
    "# Data Understanding\n",
    "\n",
    "The data is contained in three files:\n",
    "\n",
    "* portfolio.json - containing offer ids and meta data about each offer (duration, type, etc.)\n",
    "* profile.json - demographic data for each customer\n",
    "* transcript.json - records for transactions, offers received, offers viewed, and offers completed\n",
    "\n",
    "Here is the schema and explanation of each variable in the files:\n",
    "\n",
    "**portfolio.json**\n",
    "* id (string) - offer id\n",
    "* offer_type (string) - type of offer ie BOGO, discount, informational\n",
    "* difficulty (int) - minimum required spend to complete an offer\n",
    "* reward (int) - reward given for completing an offer\n",
    "* duration (int) - time for offer to be open, in days\n",
    "* channels (list of strings)\n",
    "\n",
    "**profile.json**\n",
    "* age (int) - age of the customer \n",
    "* became_member_on (int) - date when customer created an app account\n",
    "* gender (str) - gender of the customer (note some entries contain 'O' for other rather than M or F)\n",
    "* id (str) - customer id\n",
    "* income (float) - customer's income\n",
    "\n",
    "**transcript.json**\n",
    "* event (str) - record description (ie transaction, offer received, offer viewed, etc.)\n",
    "* person (str) - customer id\n",
    "* time (int) - time in hours since start of test. The data begins at time t=0\n",
    "* value - (dict of strings) - either an offer id or transaction amount depending on the record"
   ]
  },
  {
   "cell_type": "markdown",
   "metadata": {},
   "source": [
    "# Data Preparation\n",
    "\n",
    "With the business questions in mind and the data files at hand, I would apply the principles of the ETL process to extract, transform, and load the data. In this case, I will export the cleaned dataset as a csv file to the local disk for future use. \n",
    "\n",
    "In this part, I will first take an overall look at the data and try to build up some intuition about how I can use the data to answer my questions. Then I will start doing some necessary data wragling to prepare the data for further analysis."
   ]
  },
  {
   "cell_type": "markdown",
   "metadata": {},
   "source": [
    "### ETL process step 1: extract\n",
    "\n",
    "Load the original datasets and take a quick look at how the data looks like."
   ]
  },
  {
   "cell_type": "code",
   "execution_count": 1,
   "metadata": {},
   "outputs": [],
   "source": [
    "# Import necessary libraries\n",
    "import pandas as pd\n",
    "import numpy as np\n",
    "import math\n",
    "import json\n",
    "%matplotlib inline\n",
    "\n",
    "from datetime import datetime \n",
    "import matplotlib.pyplot as plt\n",
    "import seaborn as sns\n",
    "\n",
    "from sklearn.model_selection import train_test_split\n",
    "from sklearn.pipeline import Pipeline\n",
    "from sklearn.decomposition import PCA\n",
    "from sklearn.linear_model import SGDClassifier\n",
    "from sklearn.linear_model import LogisticRegression\n",
    "from sklearn.model_selection import GridSearchCV\n",
    "from sklearn.metrics import classification_report"
   ]
  },
  {
   "cell_type": "code",
   "execution_count": 20,
   "metadata": {},
   "outputs": [],
   "source": [
    "# Read in the json files\n",
    "portfolio = pd.read_json('data/portfolio.json', orient='records', lines=True)\n",
    "profile = pd.read_json('data/profile.json', orient='records', lines=True)\n",
    "transcript = pd.read_json('data/transcript.json', orient='records', lines=True)"
   ]
  },
  {
   "cell_type": "code",
   "execution_count": 21,
   "metadata": {},
   "outputs": [
    {
     "data": {
      "text/plain": [
       "((10, 6), (17000, 5), (306534, 4))"
      ]
     },
     "execution_count": 21,
     "metadata": {},
     "output_type": "execute_result"
    }
   ],
   "source": [
    "# Take a look at the shapes of the datasets\n",
    "portfolio.shape, profile.shape, transcript.shape"
   ]
  },
  {
   "cell_type": "code",
   "execution_count": 22,
   "metadata": {},
   "outputs": [
    {
     "data": {
      "text/html": [
       "<div>\n",
       "<style scoped>\n",
       "    .dataframe tbody tr th:only-of-type {\n",
       "        vertical-align: middle;\n",
       "    }\n",
       "\n",
       "    .dataframe tbody tr th {\n",
       "        vertical-align: top;\n",
       "    }\n",
       "\n",
       "    .dataframe thead th {\n",
       "        text-align: right;\n",
       "    }\n",
       "</style>\n",
       "<table border=\"1\" class=\"dataframe\">\n",
       "  <thead>\n",
       "    <tr style=\"text-align: right;\">\n",
       "      <th></th>\n",
       "      <th>channels</th>\n",
       "      <th>difficulty</th>\n",
       "      <th>duration</th>\n",
       "      <th>id</th>\n",
       "      <th>offer_type</th>\n",
       "      <th>reward</th>\n",
       "    </tr>\n",
       "  </thead>\n",
       "  <tbody>\n",
       "    <tr>\n",
       "      <th>0</th>\n",
       "      <td>[email, mobile, social]</td>\n",
       "      <td>10</td>\n",
       "      <td>7</td>\n",
       "      <td>ae264e3637204a6fb9bb56bc8210ddfd</td>\n",
       "      <td>bogo</td>\n",
       "      <td>10</td>\n",
       "    </tr>\n",
       "    <tr>\n",
       "      <th>1</th>\n",
       "      <td>[web, email, mobile, social]</td>\n",
       "      <td>10</td>\n",
       "      <td>5</td>\n",
       "      <td>4d5c57ea9a6940dd891ad53e9dbe8da0</td>\n",
       "      <td>bogo</td>\n",
       "      <td>10</td>\n",
       "    </tr>\n",
       "    <tr>\n",
       "      <th>2</th>\n",
       "      <td>[web, email, mobile]</td>\n",
       "      <td>0</td>\n",
       "      <td>4</td>\n",
       "      <td>3f207df678b143eea3cee63160fa8bed</td>\n",
       "      <td>informational</td>\n",
       "      <td>0</td>\n",
       "    </tr>\n",
       "    <tr>\n",
       "      <th>3</th>\n",
       "      <td>[web, email, mobile]</td>\n",
       "      <td>5</td>\n",
       "      <td>7</td>\n",
       "      <td>9b98b8c7a33c4b65b9aebfe6a799e6d9</td>\n",
       "      <td>bogo</td>\n",
       "      <td>5</td>\n",
       "    </tr>\n",
       "    <tr>\n",
       "      <th>4</th>\n",
       "      <td>[web, email]</td>\n",
       "      <td>20</td>\n",
       "      <td>10</td>\n",
       "      <td>0b1e1539f2cc45b7b9fa7c272da2e1d7</td>\n",
       "      <td>discount</td>\n",
       "      <td>5</td>\n",
       "    </tr>\n",
       "    <tr>\n",
       "      <th>5</th>\n",
       "      <td>[web, email, mobile, social]</td>\n",
       "      <td>7</td>\n",
       "      <td>7</td>\n",
       "      <td>2298d6c36e964ae4a3e7e9706d1fb8c2</td>\n",
       "      <td>discount</td>\n",
       "      <td>3</td>\n",
       "    </tr>\n",
       "    <tr>\n",
       "      <th>6</th>\n",
       "      <td>[web, email, mobile, social]</td>\n",
       "      <td>10</td>\n",
       "      <td>10</td>\n",
       "      <td>fafdcd668e3743c1bb461111dcafc2a4</td>\n",
       "      <td>discount</td>\n",
       "      <td>2</td>\n",
       "    </tr>\n",
       "    <tr>\n",
       "      <th>7</th>\n",
       "      <td>[email, mobile, social]</td>\n",
       "      <td>0</td>\n",
       "      <td>3</td>\n",
       "      <td>5a8bc65990b245e5a138643cd4eb9837</td>\n",
       "      <td>informational</td>\n",
       "      <td>0</td>\n",
       "    </tr>\n",
       "    <tr>\n",
       "      <th>8</th>\n",
       "      <td>[web, email, mobile, social]</td>\n",
       "      <td>5</td>\n",
       "      <td>5</td>\n",
       "      <td>f19421c1d4aa40978ebb69ca19b0e20d</td>\n",
       "      <td>bogo</td>\n",
       "      <td>5</td>\n",
       "    </tr>\n",
       "    <tr>\n",
       "      <th>9</th>\n",
       "      <td>[web, email, mobile]</td>\n",
       "      <td>10</td>\n",
       "      <td>7</td>\n",
       "      <td>2906b810c7d4411798c6938adc9daaa5</td>\n",
       "      <td>discount</td>\n",
       "      <td>2</td>\n",
       "    </tr>\n",
       "  </tbody>\n",
       "</table>\n",
       "</div>"
      ],
      "text/plain": [
       "                       channels  difficulty  duration  \\\n",
       "0       [email, mobile, social]          10         7   \n",
       "1  [web, email, mobile, social]          10         5   \n",
       "2          [web, email, mobile]           0         4   \n",
       "3          [web, email, mobile]           5         7   \n",
       "4                  [web, email]          20        10   \n",
       "5  [web, email, mobile, social]           7         7   \n",
       "6  [web, email, mobile, social]          10        10   \n",
       "7       [email, mobile, social]           0         3   \n",
       "8  [web, email, mobile, social]           5         5   \n",
       "9          [web, email, mobile]          10         7   \n",
       "\n",
       "                                 id     offer_type  reward  \n",
       "0  ae264e3637204a6fb9bb56bc8210ddfd           bogo      10  \n",
       "1  4d5c57ea9a6940dd891ad53e9dbe8da0           bogo      10  \n",
       "2  3f207df678b143eea3cee63160fa8bed  informational       0  \n",
       "3  9b98b8c7a33c4b65b9aebfe6a799e6d9           bogo       5  \n",
       "4  0b1e1539f2cc45b7b9fa7c272da2e1d7       discount       5  \n",
       "5  2298d6c36e964ae4a3e7e9706d1fb8c2       discount       3  \n",
       "6  fafdcd668e3743c1bb461111dcafc2a4       discount       2  \n",
       "7  5a8bc65990b245e5a138643cd4eb9837  informational       0  \n",
       "8  f19421c1d4aa40978ebb69ca19b0e20d           bogo       5  \n",
       "9  2906b810c7d4411798c6938adc9daaa5       discount       2  "
      ]
     },
     "execution_count": 22,
     "metadata": {},
     "output_type": "execute_result"
    }
   ],
   "source": [
    "# Take a look at the data file one by one\n",
    "portfolio"
   ]
  },
  {
   "cell_type": "code",
   "execution_count": 23,
   "metadata": {},
   "outputs": [
    {
     "data": {
      "text/html": [
       "<div>\n",
       "<style scoped>\n",
       "    .dataframe tbody tr th:only-of-type {\n",
       "        vertical-align: middle;\n",
       "    }\n",
       "\n",
       "    .dataframe tbody tr th {\n",
       "        vertical-align: top;\n",
       "    }\n",
       "\n",
       "    .dataframe thead th {\n",
       "        text-align: right;\n",
       "    }\n",
       "</style>\n",
       "<table border=\"1\" class=\"dataframe\">\n",
       "  <thead>\n",
       "    <tr style=\"text-align: right;\">\n",
       "      <th></th>\n",
       "      <th>age</th>\n",
       "      <th>became_member_on</th>\n",
       "      <th>gender</th>\n",
       "      <th>id</th>\n",
       "      <th>income</th>\n",
       "    </tr>\n",
       "  </thead>\n",
       "  <tbody>\n",
       "    <tr>\n",
       "      <th>0</th>\n",
       "      <td>118</td>\n",
       "      <td>20170212</td>\n",
       "      <td>None</td>\n",
       "      <td>68be06ca386d4c31939f3a4f0e3dd783</td>\n",
       "      <td>NaN</td>\n",
       "    </tr>\n",
       "    <tr>\n",
       "      <th>1</th>\n",
       "      <td>55</td>\n",
       "      <td>20170715</td>\n",
       "      <td>F</td>\n",
       "      <td>0610b486422d4921ae7d2bf64640c50b</td>\n",
       "      <td>112000.0</td>\n",
       "    </tr>\n",
       "    <tr>\n",
       "      <th>2</th>\n",
       "      <td>118</td>\n",
       "      <td>20180712</td>\n",
       "      <td>None</td>\n",
       "      <td>38fe809add3b4fcf9315a9694bb96ff5</td>\n",
       "      <td>NaN</td>\n",
       "    </tr>\n",
       "    <tr>\n",
       "      <th>3</th>\n",
       "      <td>75</td>\n",
       "      <td>20170509</td>\n",
       "      <td>F</td>\n",
       "      <td>78afa995795e4d85b5d9ceeca43f5fef</td>\n",
       "      <td>100000.0</td>\n",
       "    </tr>\n",
       "    <tr>\n",
       "      <th>4</th>\n",
       "      <td>118</td>\n",
       "      <td>20170804</td>\n",
       "      <td>None</td>\n",
       "      <td>a03223e636434f42ac4c3df47e8bac43</td>\n",
       "      <td>NaN</td>\n",
       "    </tr>\n",
       "  </tbody>\n",
       "</table>\n",
       "</div>"
      ],
      "text/plain": [
       "   age  became_member_on gender                                id    income\n",
       "0  118          20170212   None  68be06ca386d4c31939f3a4f0e3dd783       NaN\n",
       "1   55          20170715      F  0610b486422d4921ae7d2bf64640c50b  112000.0\n",
       "2  118          20180712   None  38fe809add3b4fcf9315a9694bb96ff5       NaN\n",
       "3   75          20170509      F  78afa995795e4d85b5d9ceeca43f5fef  100000.0\n",
       "4  118          20170804   None  a03223e636434f42ac4c3df47e8bac43       NaN"
      ]
     },
     "execution_count": 23,
     "metadata": {},
     "output_type": "execute_result"
    }
   ],
   "source": [
    "profile.head()"
   ]
  },
  {
   "cell_type": "code",
   "execution_count": 24,
   "metadata": {},
   "outputs": [
    {
     "data": {
      "text/html": [
       "<div>\n",
       "<style scoped>\n",
       "    .dataframe tbody tr th:only-of-type {\n",
       "        vertical-align: middle;\n",
       "    }\n",
       "\n",
       "    .dataframe tbody tr th {\n",
       "        vertical-align: top;\n",
       "    }\n",
       "\n",
       "    .dataframe thead th {\n",
       "        text-align: right;\n",
       "    }\n",
       "</style>\n",
       "<table border=\"1\" class=\"dataframe\">\n",
       "  <thead>\n",
       "    <tr style=\"text-align: right;\">\n",
       "      <th></th>\n",
       "      <th>event</th>\n",
       "      <th>person</th>\n",
       "      <th>time</th>\n",
       "      <th>value</th>\n",
       "    </tr>\n",
       "  </thead>\n",
       "  <tbody>\n",
       "    <tr>\n",
       "      <th>0</th>\n",
       "      <td>offer received</td>\n",
       "      <td>78afa995795e4d85b5d9ceeca43f5fef</td>\n",
       "      <td>0</td>\n",
       "      <td>{'offer id': '9b98b8c7a33c4b65b9aebfe6a799e6d9'}</td>\n",
       "    </tr>\n",
       "    <tr>\n",
       "      <th>1</th>\n",
       "      <td>offer received</td>\n",
       "      <td>a03223e636434f42ac4c3df47e8bac43</td>\n",
       "      <td>0</td>\n",
       "      <td>{'offer id': '0b1e1539f2cc45b7b9fa7c272da2e1d7'}</td>\n",
       "    </tr>\n",
       "    <tr>\n",
       "      <th>2</th>\n",
       "      <td>offer received</td>\n",
       "      <td>e2127556f4f64592b11af22de27a7932</td>\n",
       "      <td>0</td>\n",
       "      <td>{'offer id': '2906b810c7d4411798c6938adc9daaa5'}</td>\n",
       "    </tr>\n",
       "    <tr>\n",
       "      <th>3</th>\n",
       "      <td>offer received</td>\n",
       "      <td>8ec6ce2a7e7949b1bf142def7d0e0586</td>\n",
       "      <td>0</td>\n",
       "      <td>{'offer id': 'fafdcd668e3743c1bb461111dcafc2a4'}</td>\n",
       "    </tr>\n",
       "    <tr>\n",
       "      <th>4</th>\n",
       "      <td>offer received</td>\n",
       "      <td>68617ca6246f4fbc85e91a2a49552598</td>\n",
       "      <td>0</td>\n",
       "      <td>{'offer id': '4d5c57ea9a6940dd891ad53e9dbe8da0'}</td>\n",
       "    </tr>\n",
       "  </tbody>\n",
       "</table>\n",
       "</div>"
      ],
      "text/plain": [
       "            event                            person  time  \\\n",
       "0  offer received  78afa995795e4d85b5d9ceeca43f5fef     0   \n",
       "1  offer received  a03223e636434f42ac4c3df47e8bac43     0   \n",
       "2  offer received  e2127556f4f64592b11af22de27a7932     0   \n",
       "3  offer received  8ec6ce2a7e7949b1bf142def7d0e0586     0   \n",
       "4  offer received  68617ca6246f4fbc85e91a2a49552598     0   \n",
       "\n",
       "                                              value  \n",
       "0  {'offer id': '9b98b8c7a33c4b65b9aebfe6a799e6d9'}  \n",
       "1  {'offer id': '0b1e1539f2cc45b7b9fa7c272da2e1d7'}  \n",
       "2  {'offer id': '2906b810c7d4411798c6938adc9daaa5'}  \n",
       "3  {'offer id': 'fafdcd668e3743c1bb461111dcafc2a4'}  \n",
       "4  {'offer id': '4d5c57ea9a6940dd891ad53e9dbe8da0'}  "
      ]
     },
     "execution_count": 24,
     "metadata": {},
     "output_type": "execute_result"
    }
   ],
   "source": [
    "transcript.head()"
   ]
  },
  {
   "cell_type": "markdown",
   "metadata": {},
   "source": [
    "### ETL process step 2: transform\n",
    "\n",
    "In this part, I will do necessary data wrangling to clean, transform and reshape the data in order to make it ready for the future use. The procesures that I would go through include:\n",
    "\n",
    "1. Transforming the 'became_member_on' column in the profile dataset to only contain year;\n",
    "\n",
    "2. Cleaning any columns with multivalues such as the 'value' column in the transcript dataset;\n",
    "\n",
    "3. Mapping the id columns in the datasets with more easily readable values;\n",
    "\n",
    "4. Reshaing the datasets into one dataset containing necessary features;\n",
    "\n",
    "5. Finally, droping the duplicated rows in the dataset if there are any."
   ]
  },
  {
   "cell_type": "markdown",
   "metadata": {},
   "source": [
    "**1. Transform the 'became_member_on' column in the profile data**\n",
    "\n",
    "Since the detailed date and month data doesn't provide me with much interpretable information, I decide that I would only keep the year data in the 'became_member_on' column in the profile dataset. Later I might be using the year data to investigate whether there is a correlation between the membership time and the customers' behaviour in our analysis."
   ]
  },
  {
   "cell_type": "code",
   "execution_count": 25,
   "metadata": {},
   "outputs": [
    {
     "data": {
      "text/html": [
       "<div>\n",
       "<style scoped>\n",
       "    .dataframe tbody tr th:only-of-type {\n",
       "        vertical-align: middle;\n",
       "    }\n",
       "\n",
       "    .dataframe tbody tr th {\n",
       "        vertical-align: top;\n",
       "    }\n",
       "\n",
       "    .dataframe thead th {\n",
       "        text-align: right;\n",
       "    }\n",
       "</style>\n",
       "<table border=\"1\" class=\"dataframe\">\n",
       "  <thead>\n",
       "    <tr style=\"text-align: right;\">\n",
       "      <th></th>\n",
       "      <th>age</th>\n",
       "      <th>became_member_on</th>\n",
       "      <th>gender</th>\n",
       "      <th>id</th>\n",
       "      <th>income</th>\n",
       "    </tr>\n",
       "  </thead>\n",
       "  <tbody>\n",
       "    <tr>\n",
       "      <th>0</th>\n",
       "      <td>118</td>\n",
       "      <td>2017</td>\n",
       "      <td>None</td>\n",
       "      <td>68be06ca386d4c31939f3a4f0e3dd783</td>\n",
       "      <td>NaN</td>\n",
       "    </tr>\n",
       "    <tr>\n",
       "      <th>1</th>\n",
       "      <td>55</td>\n",
       "      <td>2017</td>\n",
       "      <td>F</td>\n",
       "      <td>0610b486422d4921ae7d2bf64640c50b</td>\n",
       "      <td>112000.0</td>\n",
       "    </tr>\n",
       "    <tr>\n",
       "      <th>2</th>\n",
       "      <td>118</td>\n",
       "      <td>2018</td>\n",
       "      <td>None</td>\n",
       "      <td>38fe809add3b4fcf9315a9694bb96ff5</td>\n",
       "      <td>NaN</td>\n",
       "    </tr>\n",
       "    <tr>\n",
       "      <th>3</th>\n",
       "      <td>75</td>\n",
       "      <td>2017</td>\n",
       "      <td>F</td>\n",
       "      <td>78afa995795e4d85b5d9ceeca43f5fef</td>\n",
       "      <td>100000.0</td>\n",
       "    </tr>\n",
       "    <tr>\n",
       "      <th>4</th>\n",
       "      <td>118</td>\n",
       "      <td>2017</td>\n",
       "      <td>None</td>\n",
       "      <td>a03223e636434f42ac4c3df47e8bac43</td>\n",
       "      <td>NaN</td>\n",
       "    </tr>\n",
       "  </tbody>\n",
       "</table>\n",
       "</div>"
      ],
      "text/plain": [
       "   age  became_member_on gender                                id    income\n",
       "0  118              2017   None  68be06ca386d4c31939f3a4f0e3dd783       NaN\n",
       "1   55              2017      F  0610b486422d4921ae7d2bf64640c50b  112000.0\n",
       "2  118              2018   None  38fe809add3b4fcf9315a9694bb96ff5       NaN\n",
       "3   75              2017      F  78afa995795e4d85b5d9ceeca43f5fef  100000.0\n",
       "4  118              2017   None  a03223e636434f42ac4c3df47e8bac43       NaN"
      ]
     },
     "execution_count": 25,
     "metadata": {},
     "output_type": "execute_result"
    }
   ],
   "source": [
    "# Apply a lambda function to transform the became_member_on into datetime data \\ \n",
    "# and extract only the year \n",
    "profile['became_member_on'] = profile['became_member_on'].apply(lambda x: datetime.strptime(str(x), '%Y%m%d').year)\n",
    "\n",
    "# Sanity check of the transformation\n",
    "profile.head()"
   ]
  },
  {
   "cell_type": "markdown",
   "metadata": {},
   "source": [
    "**2. Clean the 'value' column in the transcript dataset**\n",
    "\n",
    "The 'value' column in the transcript data contains data that is hard to be analyzed, especially for the machine learning part that will come later. Therefore, it is necessary to transform the data in this column into a readable format. \n",
    "\n",
    "Since every entry in this column is a dictionary, I would first transform the content of the dictionaries into string data, and then seperate the keyes and the values of the dictionaries into two different columns."
   ]
  },
  {
   "cell_type": "code",
   "execution_count": 26,
   "metadata": {},
   "outputs": [
    {
     "data": {
      "text/html": [
       "<div>\n",
       "<style scoped>\n",
       "    .dataframe tbody tr th:only-of-type {\n",
       "        vertical-align: middle;\n",
       "    }\n",
       "\n",
       "    .dataframe tbody tr th {\n",
       "        vertical-align: top;\n",
       "    }\n",
       "\n",
       "    .dataframe thead th {\n",
       "        text-align: right;\n",
       "    }\n",
       "</style>\n",
       "<table border=\"1\" class=\"dataframe\">\n",
       "  <thead>\n",
       "    <tr style=\"text-align: right;\">\n",
       "      <th></th>\n",
       "      <th>event</th>\n",
       "      <th>person</th>\n",
       "      <th>time</th>\n",
       "      <th>keys</th>\n",
       "      <th>values</th>\n",
       "    </tr>\n",
       "  </thead>\n",
       "  <tbody>\n",
       "    <tr>\n",
       "      <th>0</th>\n",
       "      <td>offer received</td>\n",
       "      <td>78afa995795e4d85b5d9ceeca43f5fef</td>\n",
       "      <td>0</td>\n",
       "      <td>offer id</td>\n",
       "      <td>9b98b8c7a33c4b65b9aebfe6a799e6d9</td>\n",
       "    </tr>\n",
       "    <tr>\n",
       "      <th>1</th>\n",
       "      <td>offer received</td>\n",
       "      <td>a03223e636434f42ac4c3df47e8bac43</td>\n",
       "      <td>0</td>\n",
       "      <td>offer id</td>\n",
       "      <td>0b1e1539f2cc45b7b9fa7c272da2e1d7</td>\n",
       "    </tr>\n",
       "    <tr>\n",
       "      <th>2</th>\n",
       "      <td>offer received</td>\n",
       "      <td>e2127556f4f64592b11af22de27a7932</td>\n",
       "      <td>0</td>\n",
       "      <td>offer id</td>\n",
       "      <td>2906b810c7d4411798c6938adc9daaa5</td>\n",
       "    </tr>\n",
       "    <tr>\n",
       "      <th>3</th>\n",
       "      <td>offer received</td>\n",
       "      <td>8ec6ce2a7e7949b1bf142def7d0e0586</td>\n",
       "      <td>0</td>\n",
       "      <td>offer id</td>\n",
       "      <td>fafdcd668e3743c1bb461111dcafc2a4</td>\n",
       "    </tr>\n",
       "    <tr>\n",
       "      <th>4</th>\n",
       "      <td>offer received</td>\n",
       "      <td>68617ca6246f4fbc85e91a2a49552598</td>\n",
       "      <td>0</td>\n",
       "      <td>offer id</td>\n",
       "      <td>4d5c57ea9a6940dd891ad53e9dbe8da0</td>\n",
       "    </tr>\n",
       "  </tbody>\n",
       "</table>\n",
       "</div>"
      ],
      "text/plain": [
       "            event                            person  time      keys  \\\n",
       "0  offer received  78afa995795e4d85b5d9ceeca43f5fef     0  offer id   \n",
       "1  offer received  a03223e636434f42ac4c3df47e8bac43     0  offer id   \n",
       "2  offer received  e2127556f4f64592b11af22de27a7932     0  offer id   \n",
       "3  offer received  8ec6ce2a7e7949b1bf142def7d0e0586     0  offer id   \n",
       "4  offer received  68617ca6246f4fbc85e91a2a49552598     0  offer id   \n",
       "\n",
       "                             values  \n",
       "0  9b98b8c7a33c4b65b9aebfe6a799e6d9  \n",
       "1  0b1e1539f2cc45b7b9fa7c272da2e1d7  \n",
       "2  2906b810c7d4411798c6938adc9daaa5  \n",
       "3  fafdcd668e3743c1bb461111dcafc2a4  \n",
       "4  4d5c57ea9a6940dd891ad53e9dbe8da0  "
      ]
     },
     "execution_count": 26,
     "metadata": {},
     "output_type": "execute_result"
    }
   ],
   "source": [
    "# Transform the 'value' column into string and put it into a 'keys_values' column\n",
    "transcript['keys_values'] = transcript['value'].apply(lambda x: ''.join('{}:{}'.format(key, val) for key, val in x.items()))\n",
    "\n",
    "# Extract the keys and values from the 'keys_values' column and separate them into two columns\n",
    "transcript['keys'] = transcript['keys_values'].apply(lambda x: x.split(':')[0])\n",
    "transcript['values'] = transcript['keys_values'].apply(lambda x: x.split(':')[1])\n",
    "\n",
    "# Drop the unnecessary columns \n",
    "transcript = transcript.drop(['value', 'keys_values'], axis=1)\n",
    "\n",
    "# Sanity check\n",
    "transcript.head()"
   ]
  },
  {
   "cell_type": "code",
   "execution_count": 27,
   "metadata": {},
   "outputs": [
    {
     "data": {
      "text/plain": [
       "(array(['offer id', 'amount', 'offer_id'], dtype=object),\n",
       " array(['9b98b8c7a33c4b65b9aebfe6a799e6d9',\n",
       "        '0b1e1539f2cc45b7b9fa7c272da2e1d7',\n",
       "        '2906b810c7d4411798c6938adc9daaa5', ..., '685.07', '405.04',\n",
       "        '476.33'], dtype=object))"
      ]
     },
     "execution_count": 27,
     "metadata": {},
     "output_type": "execute_result"
    }
   ],
   "source": [
    "# Take a look at the what unique values the 'keys' and 'values' columns contain\n",
    "transcript['keys'].unique(), transcript['values'].unique()"
   ]
  },
  {
   "cell_type": "markdown",
   "metadata": {},
   "source": [
    "The 'keys' column contains three unique values including 'offer id', 'amount', and 'offer_id'. In the following mapping part, I would map 'offer id' to 'offer_id' to make the data consistent."
   ]
  },
  {
   "cell_type": "code",
   "execution_count": 28,
   "metadata": {},
   "outputs": [
    {
     "data": {
      "text/plain": [
       "array(['offer_id', 'amount'], dtype=object)"
      ]
     },
     "execution_count": 28,
     "metadata": {},
     "output_type": "execute_result"
    }
   ],
   "source": [
    "# Transform 'offer id' into 'offer_id' in the 'keys' column\n",
    "transcript['keys'] = transcript['keys'].map({'offer id': 'offer_id', 'offer_id': 'offer_id', 'amount': 'amount'})\n",
    "\n",
    "# Sanity check\n",
    "transcript['keys'].unique()"
   ]
  },
  {
   "cell_type": "markdown",
   "metadata": {},
   "source": [
    "On the other hand, the 'values' column contains offer ids as well as numeric data, in accordance with the 'offer id' / 'offer_id' and the 'amount' data in the 'keys' column. I would like to take a closer look at this column when the keys are 'offer_ids' and 'amount' seperately. \n",
    "\n",
    "I expect the data in the 'values' columns to be only offer ids when the 'keys' column contains only 'offer_id', and only numbers when the 'keys' column contains only 'amount'."
   ]
  },
  {
   "cell_type": "code",
   "execution_count": 29,
   "metadata": {},
   "outputs": [
    {
     "data": {
      "text/plain": [
       "array(['0.8300000000000001', '34.56', '13.23', ..., '685.07', '405.04',\n",
       "       '476.33'], dtype=object)"
      ]
     },
     "execution_count": 29,
     "metadata": {},
     "output_type": "execute_result"
    }
   ],
   "source": [
    "# Unique values in the 'values' column when the 'keys' column has 'amount'\n",
    "transcript[transcript['keys'] == 'amount']['values'].unique()"
   ]
  },
  {
   "cell_type": "code",
   "execution_count": 30,
   "metadata": {},
   "outputs": [
    {
     "data": {
      "text/plain": [
       "array(['9b98b8c7a33c4b65b9aebfe6a799e6d9',\n",
       "       '0b1e1539f2cc45b7b9fa7c272da2e1d7',\n",
       "       '2906b810c7d4411798c6938adc9daaa5',\n",
       "       'fafdcd668e3743c1bb461111dcafc2a4',\n",
       "       '4d5c57ea9a6940dd891ad53e9dbe8da0',\n",
       "       'f19421c1d4aa40978ebb69ca19b0e20d',\n",
       "       '2298d6c36e964ae4a3e7e9706d1fb8c2',\n",
       "       '3f207df678b143eea3cee63160fa8bed',\n",
       "       'ae264e3637204a6fb9bb56bc8210ddfd',\n",
       "       '5a8bc65990b245e5a138643cd4eb9837',\n",
       "       '2906b810c7d4411798c6938adc9daaa5reward',\n",
       "       'fafdcd668e3743c1bb461111dcafc2a4reward',\n",
       "       '9b98b8c7a33c4b65b9aebfe6a799e6d9reward',\n",
       "       'ae264e3637204a6fb9bb56bc8210ddfdreward',\n",
       "       '4d5c57ea9a6940dd891ad53e9dbe8da0reward',\n",
       "       '2298d6c36e964ae4a3e7e9706d1fb8c2reward',\n",
       "       'f19421c1d4aa40978ebb69ca19b0e20dreward',\n",
       "       '0b1e1539f2cc45b7b9fa7c272da2e1d7reward'], dtype=object)"
      ]
     },
     "execution_count": 30,
     "metadata": {},
     "output_type": "execute_result"
    }
   ],
   "source": [
    "# Unique values in the 'values' column when the 'keys' column has 'offer_id'\n",
    "transcript[transcript['keys'] == 'offer_id']['values'].unique()"
   ]
  },
  {
   "cell_type": "markdown",
   "metadata": {},
   "source": [
    "The data in the 'values' columns seems to be as expected when the key is 'amount', containing only numbers. \n",
    "\n",
    "However, some of the offer ids have a 'reward' tag attached to the end of the offer id. According to the portfolio data, these offer ids with the 'reward' tag stand for offers that are non-informational i.e. with a reward. This information doesn't need to be repeated again in the transcript data and because of this reason I will drop the 'reward' tag from the 'values' column in the transcript data.\n",
    "\n",
    "As the offer ids always contain 32 characters, and numbers in the 'values' column are unlikely to be longer than 32 characters, I would drop the 'reward' tag by simply slicing the string data in this column. "
   ]
  },
  {
   "cell_type": "code",
   "execution_count": 31,
   "metadata": {},
   "outputs": [
    {
     "data": {
      "text/plain": [
       "array(['9b98b8c7a33c4b65b9aebfe6a799e6d9',\n",
       "       '0b1e1539f2cc45b7b9fa7c272da2e1d7',\n",
       "       '2906b810c7d4411798c6938adc9daaa5',\n",
       "       'fafdcd668e3743c1bb461111dcafc2a4',\n",
       "       '4d5c57ea9a6940dd891ad53e9dbe8da0',\n",
       "       'f19421c1d4aa40978ebb69ca19b0e20d',\n",
       "       '2298d6c36e964ae4a3e7e9706d1fb8c2',\n",
       "       '3f207df678b143eea3cee63160fa8bed',\n",
       "       'ae264e3637204a6fb9bb56bc8210ddfd',\n",
       "       '5a8bc65990b245e5a138643cd4eb9837'], dtype=object)"
      ]
     },
     "execution_count": 31,
     "metadata": {},
     "output_type": "execute_result"
    }
   ],
   "source": [
    "# Slice the data in the 'values' column and only the keep the first 32 characters\n",
    "transcript['values'] = transcript['values'].apply(lambda x: x[:32])\n",
    "\n",
    "# Sanity check\n",
    "transcript[transcript['keys'] == 'offer_id']['values'].unique()"
   ]
  },
  {
   "cell_type": "markdown",
   "metadata": {},
   "source": [
    "**3. Map the id columns**\n",
    "\n",
    "After transforming the time data, I will move on to mapping the id columns in the three datasets with more easily readable values, as the original id values are very long and hard for humans to read.\n",
    "\n",
    "Specifically, I will map the 'id' column in the portfolio data to an 'offer_id' column, the 'id' column in the profile data and the 'person' column in the transcript data to a 'customer_id' column, respectively.\n",
    "\n",
    "Since both the profile data and the transcript data have customer ids, I will first check if these two datasets have exactly the same customers. if yes, I will map the customer ids only once. This way, I can avoid mapping the same customer to different customer_id values in the two dataset which would make it problematic to merge the two datasets later on the cutomer_id key. "
   ]
  },
  {
   "cell_type": "code",
   "execution_count": 32,
   "metadata": {},
   "outputs": [
    {
     "data": {
      "text/plain": [
       "True"
      ]
     },
     "execution_count": 32,
     "metadata": {},
     "output_type": "execute_result"
    }
   ],
   "source": [
    "# Check if the profile data and in the transcript data have the exactly the same customers\n",
    "set(profile.id.tolist()) == set(transcript.person.tolist()) "
   ]
  },
  {
   "cell_type": "markdown",
   "metadata": {},
   "source": [
    "Now that we know the two datasets have the same customers, we can just map the id/person data to customer_id once. And then we only need to put the customer_id column into the two datasets.\n",
    "\n",
    "For the transcript data, both the 'person' column and the 'values' column need to be transformed. Furthermore, the 'values' column contains offer ids which should be mapped as well as amount of money spent by the customers which shouldn't be transformed. Therefore, I will create two subsets from the transcript data with one containing only offer ids in the 'values' column and one containing only 'amount of money' in the 'values' column. After the mapping, I will concatenate the two subsets back together to one transcript dataset."
   ]
  },
  {
   "cell_type": "code",
   "execution_count": 33,
   "metadata": {},
   "outputs": [],
   "source": [
    "# Write a function for mapping the ids in the three datasets\n",
    "def id_mapper(col):\n",
    "    '''\n",
    "    INPUT - a column in the dataset containing the id information that needs to be mapped\n",
    "    \n",
    "    OUTPUT - a dictionary with the keys as the original id data and the values as easy-to-read values, i.e. integers\n",
    "    '''\n",
    "    coded_dict = dict()\n",
    "    cter = 1\n",
    "    \n",
    "    for val in col:\n",
    "        if val not in coded_dict:\n",
    "            coded_dict[val] = cter\n",
    "            cter += 1\n",
    "\n",
    "    return coded_dict\n",
    "\n",
    "# Call the id_mapper function to create a dict containg the mapping infomation\n",
    "offer_id_map = id_mapper(portfolio['id'])\n",
    "customer_id_map = id_mapper(profile['id'])\n",
    "\n",
    "# Use the map method to map the id columns in the datasets\n",
    "portfolio['offer_id'] = portfolio['id'].map(offer_id_map)\n",
    "profile['customer_id'] = profile['id'].map(customer_id_map)\n",
    "transcript['customer_id'] = transcript['person'].map(customer_id_map)\n",
    "\n",
    "# Drop the original id columns\n",
    "portfolio = portfolio.drop('id', axis=1)\n",
    "profile = profile.drop('id', axis=1)\n",
    "transcript = transcript.drop('person', axis=1)\n",
    "\n",
    "# Further transfer the 'values' column in the transcript data\n",
    "# by creating a subset containing only offer ids in the 'values' column\n",
    "\n",
    "offer_id_subset = transcript[transcript['keys'] == 'offer_id'].copy() \n",
    "amount_subset = transcript[transcript['keys'] == 'amount'].copy()  \n",
    "\n",
    "# Map the offer ids in the 'values' column in the offer_id_subset \n",
    "offer_id_subset['values'] = offer_id_subset['values'].map(offer_id_map) \n",
    "\n",
    "# Concatenate the two subsets back to one dataset\n",
    "transcript = pd.concat([offer_id_subset, amount_subset], axis=0)"
   ]
  },
  {
   "cell_type": "markdown",
   "metadata": {},
   "source": [
    "**4. Reshape the data**\n",
    "\n",
    "- **Transform the transcript data**\n",
    "\n",
    "From the previous steps I learnt that the transcript data has different 'event' categories, including 'offer received', 'offer viewed', 'offer completed', and 'transaction'. These categories then correspond to different types of data in the 'keys' and 'values' columns. Therefore, it makes sense to create dummy variables from the 'event' column. Finally, I would create some subsets based on different event categories and change the dtype of the 'amount' column in the transaction data to float. "
   ]
  },
  {
   "cell_type": "code",
   "execution_count": 34,
   "metadata": {},
   "outputs": [],
   "source": [
    "# Create dummy variables from the 'event' column and concatenate the dummy \n",
    "# variables to the transcript data, and then finally drop the 'event' column\n",
    "dummy_df = pd.get_dummies(transcript['event'], drop_first=False)\n",
    "\n",
    "transcript = pd.concat([transcript, dummy_df], axis=1).drop('event', axis=1)\n",
    "\n",
    "# Create subsets containing only one of these events\n",
    "offer_received = transcript[transcript['offer received'] == 1].copy()\n",
    "offer_viewed = transcript[transcript['offer viewed'] == 1].copy()\n",
    "offer_completed = transcript[transcript['offer completed'] == 1].copy()\n",
    "transaction= transcript[transcript['transaction'] == 1].copy()\n",
    "\n",
    "# Create a new column (either 'offer_id' or 'amount') based on the 'keys' and the \n",
    "# 'values' columns, and only keep the meaningful columns\n",
    "offer_received['offer_id'] = offer_received['values'].copy()\n",
    "offer_received = offer_received[['time', 'customer_id', 'offer_id']].copy()\n",
    "\n",
    "offer_viewed['offer_id'] = offer_viewed['values'].copy()\n",
    "offer_viewed = offer_viewed[['time', 'customer_id', 'offer_id']].copy()\n",
    "\n",
    "offer_completed['offer_id'] = offer_completed['values'].copy()\n",
    "offer_completed = offer_completed[['time', 'customer_id', 'offer_id']].copy()\n",
    "\n",
    "transaction['amount'] = transaction['values'].copy()\n",
    "transaction = transaction[['time', 'customer_id', 'amount']].copy()\n",
    "\n",
    "# Change the dtype of the 'amount' column in the transaction data to float\n",
    "transaction['amount'] = transaction['amount'].astype('float64')"
   ]
  },
  {
   "cell_type": "markdown",
   "metadata": {},
   "source": [
    "- **Transform the portfolio data**\n",
    "\n",
    "In the portfolio data, the column 'channels' needs to be cleaned and transformed into different columns, because this column contains lists of different channels. I will create four columns for each channel and the values for each channel will be 1 if the channel was in the 'channels' column and 0 otherwise. Finally, I will merge the cleaned portfolio data with the above-created profile_transcript data on the key 'offer_id'."
   ]
  },
  {
   "cell_type": "code",
   "execution_count": 37,
   "metadata": {},
   "outputs": [],
   "source": [
    "email = []\n",
    "web = []\n",
    "mobile = []\n",
    "social = []\n",
    "\n",
    "for i, lists in enumerate(portfolio['channels']):\n",
    "    email.append('email' in lists)\n",
    "    web.append('web' in lists)\n",
    "    mobile.append('mobile' in lists)\n",
    "    social.append('social' in lists)\n",
    "\n",
    "# Create four channel columns \n",
    "portfolio['email'] = email\n",
    "portfolio['web'] = web\n",
    "portfolio['mobile'] = mobile\n",
    "portfolio['social'] = social\n",
    "\n",
    "# Change the values to 0 or 1 depending on if the channel was used\n",
    "portfolio['email'] = portfolio['email'].astype('int')\n",
    "portfolio['web'] = portfolio['web'].astype('int')\n",
    "portfolio['mobile'] = portfolio['mobile'].astype('int')\n",
    "portfolio['social'] = portfolio['social'].astype('int')\n",
    "\n",
    "# Drop the original 'channels' column\n",
    "portfolio = portfolio.drop('channels', axis=1)"
   ]
  },
  {
   "cell_type": "markdown",
   "metadata": {},
   "source": [
    "- **Merge the data together**\n",
    "\n",
    "Since only those customers who completed the whole offer_received -> offer_viewed -> transaction -> offer_completed process are considered as responded customers, I would create a new column 'responded' in the trans_3 dataset containing 0 if the customer didn't respond, and 1 if the customer responded. \n",
    "\n",
    "This means, only customers who have records i.e. no missing data in the 'time_offer_received', 'time_offer_viewed', 'time_transaction', and 'time_offer_completed' columns will be considered as responded.\n",
    "\n",
    "In order to avoid looping through the rows in the dataframe to decide whether any of the four columns have missing values, which is very computationally costly, I would prefer a vectorization process by adding these four columns together. If any of them have missing values, then the sum will be also a NaN. Then I just need to transform any NaN into 0, meaning the customer was not involved in all the four steps and thus not considered as 'responded'. On the other hand, if the value is not Nan, then I will convert it to 1, meaning that customer was involved in all the four steps and thus considered as responded.\n",
    "\n",
    "Finally, after the transcript data has been transformed into trans_3 with the necessary columns, I will merge the transcript data with the profile data on the 'customer_id' key, and merge the resulted data with the profile data on the 'offer_id' key. "
   ]
  },
  {
   "cell_type": "code",
   "execution_count": 38,
   "metadata": {},
   "outputs": [],
   "source": [
    "# Merge the subsets from the transcript data togehter \n",
    "trans_1 = pd.merge(offer_received, offer_viewed, how='outer', on=['customer_id', 'offer_id'], \\\n",
    "                  suffixes=('_offer_received', '_offer_viewed'))\n",
    "trans_2 = pd.merge(trans_1, offer_completed, how='outer', on=['customer_id', 'offer_id'])\n",
    "trans_3 = pd.merge(trans_2, transaction, how='outer', on='customer_id', \\\n",
    "                  suffixes=('_offer_completed', '_transaction'))\n",
    "\n",
    "# Create a 'responded' column containing 1 if the customer responded and 0 otherwise\n",
    "trans_3['responded'] = trans_3['time_offer_received'] + trans_3['time_offer_viewed'] + \\\n",
    "                       trans_3['time_transaction'] + trans_3['time_offer_completed']\n",
    "\n",
    "# Then convert the NaN values in the 'responded' column into 0 and non NaN values to 1\n",
    "trans_3['responded'] = trans_3['responded'].notnull().astype('int')\n",
    "\n",
    "# Merge the transcript data in trans_3 with the profile data\n",
    "profile_transcript = pd.merge(trans_3, profile, how='outer', on='customer_id')\n",
    "\n",
    "# Merge the cleaned portfolio data with the profile_transcript data on the key 'offer_id'\n",
    "df = pd.merge(profile_transcript, portfolio, how='outer', on='offer_id')"
   ]
  },
  {
   "cell_type": "markdown",
   "metadata": {},
   "source": [
    "**5. Drop duplicates**\n",
    " \n",
    "After putting all the profile and transcript data into one dataset, I will do a final check and drop any duplicates in the final dataset."
   ]
  },
  {
   "cell_type": "code",
   "execution_count": 39,
   "metadata": {},
   "outputs": [
    {
     "data": {
      "text/html": [
       "<div>\n",
       "<style scoped>\n",
       "    .dataframe tbody tr th:only-of-type {\n",
       "        vertical-align: middle;\n",
       "    }\n",
       "\n",
       "    .dataframe tbody tr th {\n",
       "        vertical-align: top;\n",
       "    }\n",
       "\n",
       "    .dataframe thead th {\n",
       "        text-align: right;\n",
       "    }\n",
       "</style>\n",
       "<table border=\"1\" class=\"dataframe\">\n",
       "  <thead>\n",
       "    <tr style=\"text-align: right;\">\n",
       "      <th></th>\n",
       "      <th>time_offer_received</th>\n",
       "      <th>customer_id</th>\n",
       "      <th>offer_id</th>\n",
       "      <th>time_offer_viewed</th>\n",
       "      <th>time_offer_completed</th>\n",
       "      <th>time_transaction</th>\n",
       "      <th>amount</th>\n",
       "      <th>responded</th>\n",
       "      <th>age</th>\n",
       "      <th>became_member_on</th>\n",
       "      <th>gender</th>\n",
       "      <th>income</th>\n",
       "      <th>difficulty</th>\n",
       "      <th>duration</th>\n",
       "      <th>offer_type</th>\n",
       "      <th>reward</th>\n",
       "      <th>email</th>\n",
       "      <th>web</th>\n",
       "      <th>mobile</th>\n",
       "      <th>social</th>\n",
       "    </tr>\n",
       "  </thead>\n",
       "  <tbody>\n",
       "    <tr>\n",
       "      <th>0</th>\n",
       "      <td>0.0</td>\n",
       "      <td>4</td>\n",
       "      <td>4</td>\n",
       "      <td>6.0</td>\n",
       "      <td>132.0</td>\n",
       "      <td>132.0</td>\n",
       "      <td>19.89</td>\n",
       "      <td>1</td>\n",
       "      <td>75</td>\n",
       "      <td>2017</td>\n",
       "      <td>F</td>\n",
       "      <td>100000.0</td>\n",
       "      <td>5.0</td>\n",
       "      <td>7.0</td>\n",
       "      <td>bogo</td>\n",
       "      <td>5.0</td>\n",
       "      <td>1.0</td>\n",
       "      <td>1.0</td>\n",
       "      <td>1.0</td>\n",
       "      <td>0.0</td>\n",
       "    </tr>\n",
       "    <tr>\n",
       "      <th>1</th>\n",
       "      <td>0.0</td>\n",
       "      <td>4</td>\n",
       "      <td>4</td>\n",
       "      <td>6.0</td>\n",
       "      <td>132.0</td>\n",
       "      <td>144.0</td>\n",
       "      <td>17.78</td>\n",
       "      <td>1</td>\n",
       "      <td>75</td>\n",
       "      <td>2017</td>\n",
       "      <td>F</td>\n",
       "      <td>100000.0</td>\n",
       "      <td>5.0</td>\n",
       "      <td>7.0</td>\n",
       "      <td>bogo</td>\n",
       "      <td>5.0</td>\n",
       "      <td>1.0</td>\n",
       "      <td>1.0</td>\n",
       "      <td>1.0</td>\n",
       "      <td>0.0</td>\n",
       "    </tr>\n",
       "    <tr>\n",
       "      <th>2</th>\n",
       "      <td>0.0</td>\n",
       "      <td>4</td>\n",
       "      <td>4</td>\n",
       "      <td>6.0</td>\n",
       "      <td>132.0</td>\n",
       "      <td>222.0</td>\n",
       "      <td>19.67</td>\n",
       "      <td>1</td>\n",
       "      <td>75</td>\n",
       "      <td>2017</td>\n",
       "      <td>F</td>\n",
       "      <td>100000.0</td>\n",
       "      <td>5.0</td>\n",
       "      <td>7.0</td>\n",
       "      <td>bogo</td>\n",
       "      <td>5.0</td>\n",
       "      <td>1.0</td>\n",
       "      <td>1.0</td>\n",
       "      <td>1.0</td>\n",
       "      <td>0.0</td>\n",
       "    </tr>\n",
       "    <tr>\n",
       "      <th>3</th>\n",
       "      <td>0.0</td>\n",
       "      <td>4</td>\n",
       "      <td>4</td>\n",
       "      <td>6.0</td>\n",
       "      <td>132.0</td>\n",
       "      <td>240.0</td>\n",
       "      <td>29.72</td>\n",
       "      <td>1</td>\n",
       "      <td>75</td>\n",
       "      <td>2017</td>\n",
       "      <td>F</td>\n",
       "      <td>100000.0</td>\n",
       "      <td>5.0</td>\n",
       "      <td>7.0</td>\n",
       "      <td>bogo</td>\n",
       "      <td>5.0</td>\n",
       "      <td>1.0</td>\n",
       "      <td>1.0</td>\n",
       "      <td>1.0</td>\n",
       "      <td>0.0</td>\n",
       "    </tr>\n",
       "    <tr>\n",
       "      <th>4</th>\n",
       "      <td>0.0</td>\n",
       "      <td>4</td>\n",
       "      <td>4</td>\n",
       "      <td>6.0</td>\n",
       "      <td>132.0</td>\n",
       "      <td>378.0</td>\n",
       "      <td>23.93</td>\n",
       "      <td>1</td>\n",
       "      <td>75</td>\n",
       "      <td>2017</td>\n",
       "      <td>F</td>\n",
       "      <td>100000.0</td>\n",
       "      <td>5.0</td>\n",
       "      <td>7.0</td>\n",
       "      <td>bogo</td>\n",
       "      <td>5.0</td>\n",
       "      <td>1.0</td>\n",
       "      <td>1.0</td>\n",
       "      <td>1.0</td>\n",
       "      <td>0.0</td>\n",
       "    </tr>\n",
       "  </tbody>\n",
       "</table>\n",
       "</div>"
      ],
      "text/plain": [
       "   time_offer_received  customer_id offer_id  time_offer_viewed  \\\n",
       "0                  0.0            4        4                6.0   \n",
       "1                  0.0            4        4                6.0   \n",
       "2                  0.0            4        4                6.0   \n",
       "3                  0.0            4        4                6.0   \n",
       "4                  0.0            4        4                6.0   \n",
       "\n",
       "   time_offer_completed  time_transaction  amount  responded  age  \\\n",
       "0                 132.0             132.0   19.89          1   75   \n",
       "1                 132.0             144.0   17.78          1   75   \n",
       "2                 132.0             222.0   19.67          1   75   \n",
       "3                 132.0             240.0   29.72          1   75   \n",
       "4                 132.0             378.0   23.93          1   75   \n",
       "\n",
       "   became_member_on gender    income  difficulty  duration offer_type  reward  \\\n",
       "0              2017      F  100000.0         5.0       7.0       bogo     5.0   \n",
       "1              2017      F  100000.0         5.0       7.0       bogo     5.0   \n",
       "2              2017      F  100000.0         5.0       7.0       bogo     5.0   \n",
       "3              2017      F  100000.0         5.0       7.0       bogo     5.0   \n",
       "4              2017      F  100000.0         5.0       7.0       bogo     5.0   \n",
       "\n",
       "   email  web  mobile  social  \n",
       "0    1.0  1.0     1.0     0.0  \n",
       "1    1.0  1.0     1.0     0.0  \n",
       "2    1.0  1.0     1.0     0.0  \n",
       "3    1.0  1.0     1.0     0.0  \n",
       "4    1.0  1.0     1.0     0.0  "
      ]
     },
     "execution_count": 39,
     "metadata": {},
     "output_type": "execute_result"
    }
   ],
   "source": [
    "# Drop duplicated rows in df\n",
    "df = df.drop_duplicates(keep='first')\n",
    "\n",
    "df.head()"
   ]
  },
  {
   "cell_type": "markdown",
   "metadata": {},
   "source": [
    "**6. Take a final overview of the data**\n",
    "\n",
    "At this point, I think the data is in a pretty good fromat for further analysis such as inferential analysis, although for machine learning there is still some categorical columns that need to be dealt with. However, for now I would take a final look at the data and and some basic statistics about the features such as count, mean, max, and min. \n",
    "\n",
    "This way I can possibly identify some abnormalities before exploring the data if there is anything standing out. If everything seems in line then I would move on to exploring the data. "
   ]
  },
  {
   "cell_type": "code",
   "execution_count": 40,
   "metadata": {},
   "outputs": [
    {
     "name": "stdout",
     "output_type": "stream",
     "text": [
      "<class 'pandas.core.frame.DataFrame'>\n",
      "Int64Index: 1021028 entries, 0 to 1035305\n",
      "Data columns (total 20 columns):\n",
      "time_offer_received     1021008 non-null float64\n",
      "customer_id             1021028 non-null int64\n",
      "offer_id                1021008 non-null object\n",
      "time_offer_viewed       891655 non-null float64\n",
      "time_offer_completed    676463 non-null float64\n",
      "time_transaction        1018664 non-null float64\n",
      "amount                  1018664 non-null float64\n",
      "responded               1021028 non-null int32\n",
      "age                     1021028 non-null int64\n",
      "became_member_on        1021028 non-null int64\n",
      "gender                  927973 non-null object\n",
      "income                  927973 non-null float64\n",
      "difficulty              1021008 non-null float64\n",
      "duration                1021008 non-null float64\n",
      "offer_type              1021008 non-null object\n",
      "reward                  1021008 non-null float64\n",
      "email                   1021008 non-null float64\n",
      "web                     1021008 non-null float64\n",
      "mobile                  1021008 non-null float64\n",
      "social                  1021008 non-null float64\n",
      "dtypes: float64(13), int32(1), int64(3), object(3)\n",
      "memory usage: 159.7+ MB\n"
     ]
    }
   ],
   "source": [
    "df.info()"
   ]
  },
  {
   "cell_type": "code",
   "execution_count": 41,
   "metadata": {},
   "outputs": [
    {
     "data": {
      "text/html": [
       "<div>\n",
       "<style scoped>\n",
       "    .dataframe tbody tr th:only-of-type {\n",
       "        vertical-align: middle;\n",
       "    }\n",
       "\n",
       "    .dataframe tbody tr th {\n",
       "        vertical-align: top;\n",
       "    }\n",
       "\n",
       "    .dataframe thead th {\n",
       "        text-align: right;\n",
       "    }\n",
       "</style>\n",
       "<table border=\"1\" class=\"dataframe\">\n",
       "  <thead>\n",
       "    <tr style=\"text-align: right;\">\n",
       "      <th></th>\n",
       "      <th>time_offer_received</th>\n",
       "      <th>customer_id</th>\n",
       "      <th>time_offer_viewed</th>\n",
       "      <th>time_offer_completed</th>\n",
       "      <th>time_transaction</th>\n",
       "      <th>amount</th>\n",
       "      <th>responded</th>\n",
       "      <th>age</th>\n",
       "      <th>became_member_on</th>\n",
       "      <th>income</th>\n",
       "      <th>difficulty</th>\n",
       "      <th>duration</th>\n",
       "      <th>reward</th>\n",
       "      <th>email</th>\n",
       "      <th>web</th>\n",
       "      <th>mobile</th>\n",
       "      <th>social</th>\n",
       "    </tr>\n",
       "  </thead>\n",
       "  <tbody>\n",
       "    <tr>\n",
       "      <th>count</th>\n",
       "      <td>1.021008e+06</td>\n",
       "      <td>1.021028e+06</td>\n",
       "      <td>891655.000000</td>\n",
       "      <td>676463.000000</td>\n",
       "      <td>1.018664e+06</td>\n",
       "      <td>1.018664e+06</td>\n",
       "      <td>1.021028e+06</td>\n",
       "      <td>1.021028e+06</td>\n",
       "      <td>1.021028e+06</td>\n",
       "      <td>927973.000000</td>\n",
       "      <td>1.021008e+06</td>\n",
       "      <td>1.021008e+06</td>\n",
       "      <td>1.021008e+06</td>\n",
       "      <td>1021008.0</td>\n",
       "      <td>1.021008e+06</td>\n",
       "      <td>1.021008e+06</td>\n",
       "      <td>1.021008e+06</td>\n",
       "    </tr>\n",
       "    <tr>\n",
       "      <th>mean</th>\n",
       "      <td>3.297230e+02</td>\n",
       "      <td>8.522303e+03</td>\n",
       "      <td>350.028186</td>\n",
       "      <td>387.790407</td>\n",
       "      <td>3.806928e+02</td>\n",
       "      <td>1.390447e+01</td>\n",
       "      <td>6.105180e-01</td>\n",
       "      <td>5.898163e+01</td>\n",
       "      <td>2.016315e+03</td>\n",
       "      <td>62852.702611</td>\n",
       "      <td>7.872505e+00</td>\n",
       "      <td>6.680062e+00</td>\n",
       "      <td>4.416621e+00</td>\n",
       "      <td>1.0</td>\n",
       "      <td>8.089799e-01</td>\n",
       "      <td>9.253542e-01</td>\n",
       "      <td>6.794883e-01</td>\n",
       "    </tr>\n",
       "    <tr>\n",
       "      <th>std</th>\n",
       "      <td>1.972309e+02</td>\n",
       "      <td>4.922487e+03</td>\n",
       "      <td>199.857089</td>\n",
       "      <td>194.873989</td>\n",
       "      <td>2.015516e+02</td>\n",
       "      <td>3.242653e+01</td>\n",
       "      <td>4.876331e-01</td>\n",
       "      <td>2.519910e+01</td>\n",
       "      <td>1.189730e+00</td>\n",
       "      <td>20682.694381</td>\n",
       "      <td>4.883370e+00</td>\n",
       "      <td>2.135141e+00</td>\n",
       "      <td>3.368312e+00</td>\n",
       "      <td>0.0</td>\n",
       "      <td>3.931050e-01</td>\n",
       "      <td>2.628192e-01</td>\n",
       "      <td>4.666735e-01</td>\n",
       "    </tr>\n",
       "    <tr>\n",
       "      <th>min</th>\n",
       "      <td>0.000000e+00</td>\n",
       "      <td>1.000000e+00</td>\n",
       "      <td>0.000000</td>\n",
       "      <td>0.000000</td>\n",
       "      <td>0.000000e+00</td>\n",
       "      <td>5.000000e-02</td>\n",
       "      <td>0.000000e+00</td>\n",
       "      <td>1.800000e+01</td>\n",
       "      <td>2.013000e+03</td>\n",
       "      <td>30000.000000</td>\n",
       "      <td>0.000000e+00</td>\n",
       "      <td>3.000000e+00</td>\n",
       "      <td>0.000000e+00</td>\n",
       "      <td>1.0</td>\n",
       "      <td>0.000000e+00</td>\n",
       "      <td>0.000000e+00</td>\n",
       "      <td>0.000000e+00</td>\n",
       "    </tr>\n",
       "    <tr>\n",
       "      <th>25%</th>\n",
       "      <td>1.680000e+02</td>\n",
       "      <td>4.291000e+03</td>\n",
       "      <td>180.000000</td>\n",
       "      <td>216.000000</td>\n",
       "      <td>2.100000e+02</td>\n",
       "      <td>3.350000e+00</td>\n",
       "      <td>0.000000e+00</td>\n",
       "      <td>4.200000e+01</td>\n",
       "      <td>2.016000e+03</td>\n",
       "      <td>47000.000000</td>\n",
       "      <td>5.000000e+00</td>\n",
       "      <td>5.000000e+00</td>\n",
       "      <td>2.000000e+00</td>\n",
       "      <td>1.0</td>\n",
       "      <td>1.000000e+00</td>\n",
       "      <td>1.000000e+00</td>\n",
       "      <td>0.000000e+00</td>\n",
       "    </tr>\n",
       "    <tr>\n",
       "      <th>50%</th>\n",
       "      <td>3.360000e+02</td>\n",
       "      <td>8.491000e+03</td>\n",
       "      <td>390.000000</td>\n",
       "      <td>420.000000</td>\n",
       "      <td>4.020000e+02</td>\n",
       "      <td>1.065000e+01</td>\n",
       "      <td>1.000000e+00</td>\n",
       "      <td>5.600000e+01</td>\n",
       "      <td>2.017000e+03</td>\n",
       "      <td>61000.000000</td>\n",
       "      <td>1.000000e+01</td>\n",
       "      <td>7.000000e+00</td>\n",
       "      <td>3.000000e+00</td>\n",
       "      <td>1.0</td>\n",
       "      <td>1.000000e+00</td>\n",
       "      <td>1.000000e+00</td>\n",
       "      <td>1.000000e+00</td>\n",
       "    </tr>\n",
       "    <tr>\n",
       "      <th>75%</th>\n",
       "      <td>5.040000e+02</td>\n",
       "      <td>1.279200e+04</td>\n",
       "      <td>516.000000</td>\n",
       "      <td>552.000000</td>\n",
       "      <td>5.520000e+02</td>\n",
       "      <td>1.902000e+01</td>\n",
       "      <td>1.000000e+00</td>\n",
       "      <td>7.000000e+01</td>\n",
       "      <td>2.017000e+03</td>\n",
       "      <td>75000.000000</td>\n",
       "      <td>1.000000e+01</td>\n",
       "      <td>7.000000e+00</td>\n",
       "      <td>5.000000e+00</td>\n",
       "      <td>1.0</td>\n",
       "      <td>1.000000e+00</td>\n",
       "      <td>1.000000e+00</td>\n",
       "      <td>1.000000e+00</td>\n",
       "    </tr>\n",
       "    <tr>\n",
       "      <th>max</th>\n",
       "      <td>5.760000e+02</td>\n",
       "      <td>1.700000e+04</td>\n",
       "      <td>714.000000</td>\n",
       "      <td>714.000000</td>\n",
       "      <td>7.140000e+02</td>\n",
       "      <td>1.062280e+03</td>\n",
       "      <td>1.000000e+00</td>\n",
       "      <td>1.180000e+02</td>\n",
       "      <td>2.018000e+03</td>\n",
       "      <td>120000.000000</td>\n",
       "      <td>2.000000e+01</td>\n",
       "      <td>1.000000e+01</td>\n",
       "      <td>1.000000e+01</td>\n",
       "      <td>1.0</td>\n",
       "      <td>1.000000e+00</td>\n",
       "      <td>1.000000e+00</td>\n",
       "      <td>1.000000e+00</td>\n",
       "    </tr>\n",
       "  </tbody>\n",
       "</table>\n",
       "</div>"
      ],
      "text/plain": [
       "       time_offer_received   customer_id  time_offer_viewed  \\\n",
       "count         1.021008e+06  1.021028e+06      891655.000000   \n",
       "mean          3.297230e+02  8.522303e+03         350.028186   \n",
       "std           1.972309e+02  4.922487e+03         199.857089   \n",
       "min           0.000000e+00  1.000000e+00           0.000000   \n",
       "25%           1.680000e+02  4.291000e+03         180.000000   \n",
       "50%           3.360000e+02  8.491000e+03         390.000000   \n",
       "75%           5.040000e+02  1.279200e+04         516.000000   \n",
       "max           5.760000e+02  1.700000e+04         714.000000   \n",
       "\n",
       "       time_offer_completed  time_transaction        amount     responded  \\\n",
       "count         676463.000000      1.018664e+06  1.018664e+06  1.021028e+06   \n",
       "mean             387.790407      3.806928e+02  1.390447e+01  6.105180e-01   \n",
       "std              194.873989      2.015516e+02  3.242653e+01  4.876331e-01   \n",
       "min                0.000000      0.000000e+00  5.000000e-02  0.000000e+00   \n",
       "25%              216.000000      2.100000e+02  3.350000e+00  0.000000e+00   \n",
       "50%              420.000000      4.020000e+02  1.065000e+01  1.000000e+00   \n",
       "75%              552.000000      5.520000e+02  1.902000e+01  1.000000e+00   \n",
       "max              714.000000      7.140000e+02  1.062280e+03  1.000000e+00   \n",
       "\n",
       "                age  became_member_on         income    difficulty  \\\n",
       "count  1.021028e+06      1.021028e+06  927973.000000  1.021008e+06   \n",
       "mean   5.898163e+01      2.016315e+03   62852.702611  7.872505e+00   \n",
       "std    2.519910e+01      1.189730e+00   20682.694381  4.883370e+00   \n",
       "min    1.800000e+01      2.013000e+03   30000.000000  0.000000e+00   \n",
       "25%    4.200000e+01      2.016000e+03   47000.000000  5.000000e+00   \n",
       "50%    5.600000e+01      2.017000e+03   61000.000000  1.000000e+01   \n",
       "75%    7.000000e+01      2.017000e+03   75000.000000  1.000000e+01   \n",
       "max    1.180000e+02      2.018000e+03  120000.000000  2.000000e+01   \n",
       "\n",
       "           duration        reward      email           web        mobile  \\\n",
       "count  1.021008e+06  1.021008e+06  1021008.0  1.021008e+06  1.021008e+06   \n",
       "mean   6.680062e+00  4.416621e+00        1.0  8.089799e-01  9.253542e-01   \n",
       "std    2.135141e+00  3.368312e+00        0.0  3.931050e-01  2.628192e-01   \n",
       "min    3.000000e+00  0.000000e+00        1.0  0.000000e+00  0.000000e+00   \n",
       "25%    5.000000e+00  2.000000e+00        1.0  1.000000e+00  1.000000e+00   \n",
       "50%    7.000000e+00  3.000000e+00        1.0  1.000000e+00  1.000000e+00   \n",
       "75%    7.000000e+00  5.000000e+00        1.0  1.000000e+00  1.000000e+00   \n",
       "max    1.000000e+01  1.000000e+01        1.0  1.000000e+00  1.000000e+00   \n",
       "\n",
       "             social  \n",
       "count  1.021008e+06  \n",
       "mean   6.794883e-01  \n",
       "std    4.666735e-01  \n",
       "min    0.000000e+00  \n",
       "25%    0.000000e+00  \n",
       "50%    1.000000e+00  \n",
       "75%    1.000000e+00  \n",
       "max    1.000000e+00  "
      ]
     },
     "execution_count": 41,
     "metadata": {},
     "output_type": "execute_result"
    }
   ],
   "source": [
    "df.describe()"
   ]
  },
  {
   "cell_type": "markdown",
   "metadata": {},
   "source": [
    "One thing in the data caught my attention, which was that the maximum age was 118 years old. I decide to look into this feature more closely to see if there is anything special about these individuals. After all, it is not impossible that people might just give fake information when registering in the app and this makes the demographic information of these people less than meaningful to be used for our analysis. \n",
    "\n",
    "To identify these users with this unusually high age, I will first create a subset with only users who have an age of 118 and then check some basic statistics of this sub-dataset. "
   ]
  },
  {
   "cell_type": "code",
   "execution_count": 42,
   "metadata": {},
   "outputs": [
    {
     "name": "stdout",
     "output_type": "stream",
     "text": [
      "<class 'pandas.core.frame.DataFrame'>\n",
      "Int64Index: 93055 entries, 10 to 1035305\n",
      "Data columns (total 20 columns):\n",
      "time_offer_received     93054 non-null float64\n",
      "customer_id             93055 non-null int64\n",
      "offer_id                93054 non-null object\n",
      "time_offer_viewed       82211 non-null float64\n",
      "time_offer_completed    24454 non-null float64\n",
      "time_transaction        92523 non-null float64\n",
      "amount                  92523 non-null float64\n",
      "responded               93055 non-null int32\n",
      "age                     93055 non-null int64\n",
      "became_member_on        93055 non-null int64\n",
      "gender                  0 non-null object\n",
      "income                  0 non-null float64\n",
      "difficulty              93054 non-null float64\n",
      "duration                93054 non-null float64\n",
      "offer_type              93054 non-null object\n",
      "reward                  93054 non-null float64\n",
      "email                   93054 non-null float64\n",
      "web                     93054 non-null float64\n",
      "mobile                  93054 non-null float64\n",
      "social                  93054 non-null float64\n",
      "dtypes: float64(13), int32(1), int64(3), object(3)\n",
      "memory usage: 14.6+ MB\n"
     ]
    }
   ],
   "source": [
    "# Creat a subset from profile which only contains users with an age of 118\n",
    "age_118 = df[df['age'] == 118]\n",
    "\n",
    "# Look up some basic information of the columns in this sub-dataset \n",
    "age_118.info()"
   ]
  },
  {
   "cell_type": "markdown",
   "metadata": {},
   "source": [
    "It turns out there are 93055 rows where the users have the age of 118 years old. More interestingly, there is no recorded gender or income data for these users in the datset at all. Therefore, I decide to drop these users from the dataset as they don't really provide meaningful information for our following analysis."
   ]
  },
  {
   "cell_type": "code",
   "execution_count": 43,
   "metadata": {},
   "outputs": [
    {
     "data": {
      "text/html": [
       "<div>\n",
       "<style scoped>\n",
       "    .dataframe tbody tr th:only-of-type {\n",
       "        vertical-align: middle;\n",
       "    }\n",
       "\n",
       "    .dataframe tbody tr th {\n",
       "        vertical-align: top;\n",
       "    }\n",
       "\n",
       "    .dataframe thead th {\n",
       "        text-align: right;\n",
       "    }\n",
       "</style>\n",
       "<table border=\"1\" class=\"dataframe\">\n",
       "  <thead>\n",
       "    <tr style=\"text-align: right;\">\n",
       "      <th></th>\n",
       "      <th>time_offer_received</th>\n",
       "      <th>customer_id</th>\n",
       "      <th>time_offer_viewed</th>\n",
       "      <th>time_offer_completed</th>\n",
       "      <th>time_transaction</th>\n",
       "      <th>amount</th>\n",
       "      <th>responded</th>\n",
       "      <th>age</th>\n",
       "      <th>became_member_on</th>\n",
       "      <th>income</th>\n",
       "      <th>difficulty</th>\n",
       "      <th>duration</th>\n",
       "      <th>reward</th>\n",
       "      <th>email</th>\n",
       "      <th>web</th>\n",
       "      <th>mobile</th>\n",
       "      <th>social</th>\n",
       "    </tr>\n",
       "  </thead>\n",
       "  <tbody>\n",
       "    <tr>\n",
       "      <th>count</th>\n",
       "      <td>927954.000000</td>\n",
       "      <td>927973.000000</td>\n",
       "      <td>809444.000000</td>\n",
       "      <td>652009.000000</td>\n",
       "      <td>926141.000000</td>\n",
       "      <td>926141.000000</td>\n",
       "      <td>927973.000000</td>\n",
       "      <td>927973.000000</td>\n",
       "      <td>927973.000000</td>\n",
       "      <td>927973.000000</td>\n",
       "      <td>927954.000000</td>\n",
       "      <td>927954.000000</td>\n",
       "      <td>927954.000000</td>\n",
       "      <td>927954.0</td>\n",
       "      <td>927954.000000</td>\n",
       "      <td>927954.000000</td>\n",
       "      <td>927954.000000</td>\n",
       "    </tr>\n",
       "    <tr>\n",
       "      <th>mean</th>\n",
       "      <td>329.506178</td>\n",
       "      <td>8516.760864</td>\n",
       "      <td>349.917931</td>\n",
       "      <td>385.927593</td>\n",
       "      <td>380.314144</td>\n",
       "      <td>15.019638</td>\n",
       "      <td>0.646409</td>\n",
       "      <td>53.063404</td>\n",
       "      <td>2016.296527</td>\n",
       "      <td>62852.702611</td>\n",
       "      <td>7.894959</td>\n",
       "      <td>6.691847</td>\n",
       "      <td>4.439192</td>\n",
       "      <td>1.0</td>\n",
       "      <td>0.809229</td>\n",
       "      <td>0.925799</td>\n",
       "      <td>0.682374</td>\n",
       "    </tr>\n",
       "    <tr>\n",
       "      <th>std</th>\n",
       "      <td>197.294564</td>\n",
       "      <td>4923.654092</td>\n",
       "      <td>199.976511</td>\n",
       "      <td>195.042957</td>\n",
       "      <td>201.659687</td>\n",
       "      <td>33.752994</td>\n",
       "      <td>0.478084</td>\n",
       "      <td>17.730212</td>\n",
       "      <td>1.205859</td>\n",
       "      <td>20682.694381</td>\n",
       "      <td>4.856883</td>\n",
       "      <td>2.127882</td>\n",
       "      <td>3.368611</td>\n",
       "      <td>0.0</td>\n",
       "      <td>0.392909</td>\n",
       "      <td>0.262098</td>\n",
       "      <td>0.465553</td>\n",
       "    </tr>\n",
       "    <tr>\n",
       "      <th>min</th>\n",
       "      <td>0.000000</td>\n",
       "      <td>2.000000</td>\n",
       "      <td>0.000000</td>\n",
       "      <td>0.000000</td>\n",
       "      <td>0.000000</td>\n",
       "      <td>0.050000</td>\n",
       "      <td>0.000000</td>\n",
       "      <td>18.000000</td>\n",
       "      <td>2013.000000</td>\n",
       "      <td>30000.000000</td>\n",
       "      <td>0.000000</td>\n",
       "      <td>3.000000</td>\n",
       "      <td>0.000000</td>\n",
       "      <td>1.0</td>\n",
       "      <td>0.000000</td>\n",
       "      <td>0.000000</td>\n",
       "      <td>0.000000</td>\n",
       "    </tr>\n",
       "    <tr>\n",
       "      <th>25%</th>\n",
       "      <td>168.000000</td>\n",
       "      <td>4291.000000</td>\n",
       "      <td>180.000000</td>\n",
       "      <td>216.000000</td>\n",
       "      <td>210.000000</td>\n",
       "      <td>4.480000</td>\n",
       "      <td>0.000000</td>\n",
       "      <td>40.000000</td>\n",
       "      <td>2016.000000</td>\n",
       "      <td>47000.000000</td>\n",
       "      <td>5.000000</td>\n",
       "      <td>5.000000</td>\n",
       "      <td>2.000000</td>\n",
       "      <td>1.0</td>\n",
       "      <td>1.000000</td>\n",
       "      <td>1.000000</td>\n",
       "      <td>0.000000</td>\n",
       "    </tr>\n",
       "    <tr>\n",
       "      <th>50%</th>\n",
       "      <td>336.000000</td>\n",
       "      <td>8480.000000</td>\n",
       "      <td>390.000000</td>\n",
       "      <td>420.000000</td>\n",
       "      <td>402.000000</td>\n",
       "      <td>12.140000</td>\n",
       "      <td>1.000000</td>\n",
       "      <td>54.000000</td>\n",
       "      <td>2017.000000</td>\n",
       "      <td>61000.000000</td>\n",
       "      <td>10.000000</td>\n",
       "      <td>7.000000</td>\n",
       "      <td>3.000000</td>\n",
       "      <td>1.0</td>\n",
       "      <td>1.000000</td>\n",
       "      <td>1.000000</td>\n",
       "      <td>1.000000</td>\n",
       "    </tr>\n",
       "    <tr>\n",
       "      <th>75%</th>\n",
       "      <td>504.000000</td>\n",
       "      <td>12795.000000</td>\n",
       "      <td>516.000000</td>\n",
       "      <td>546.000000</td>\n",
       "      <td>552.000000</td>\n",
       "      <td>19.860000</td>\n",
       "      <td>1.000000</td>\n",
       "      <td>66.000000</td>\n",
       "      <td>2017.000000</td>\n",
       "      <td>75000.000000</td>\n",
       "      <td>10.000000</td>\n",
       "      <td>7.000000</td>\n",
       "      <td>5.000000</td>\n",
       "      <td>1.0</td>\n",
       "      <td>1.000000</td>\n",
       "      <td>1.000000</td>\n",
       "      <td>1.000000</td>\n",
       "    </tr>\n",
       "    <tr>\n",
       "      <th>max</th>\n",
       "      <td>576.000000</td>\n",
       "      <td>17000.000000</td>\n",
       "      <td>714.000000</td>\n",
       "      <td>714.000000</td>\n",
       "      <td>714.000000</td>\n",
       "      <td>1062.280000</td>\n",
       "      <td>1.000000</td>\n",
       "      <td>101.000000</td>\n",
       "      <td>2018.000000</td>\n",
       "      <td>120000.000000</td>\n",
       "      <td>20.000000</td>\n",
       "      <td>10.000000</td>\n",
       "      <td>10.000000</td>\n",
       "      <td>1.0</td>\n",
       "      <td>1.000000</td>\n",
       "      <td>1.000000</td>\n",
       "      <td>1.000000</td>\n",
       "    </tr>\n",
       "  </tbody>\n",
       "</table>\n",
       "</div>"
      ],
      "text/plain": [
       "       time_offer_received    customer_id  time_offer_viewed  \\\n",
       "count        927954.000000  927973.000000      809444.000000   \n",
       "mean            329.506178    8516.760864         349.917931   \n",
       "std             197.294564    4923.654092         199.976511   \n",
       "min               0.000000       2.000000           0.000000   \n",
       "25%             168.000000    4291.000000         180.000000   \n",
       "50%             336.000000    8480.000000         390.000000   \n",
       "75%             504.000000   12795.000000         516.000000   \n",
       "max             576.000000   17000.000000         714.000000   \n",
       "\n",
       "       time_offer_completed  time_transaction         amount      responded  \\\n",
       "count         652009.000000     926141.000000  926141.000000  927973.000000   \n",
       "mean             385.927593        380.314144      15.019638       0.646409   \n",
       "std              195.042957        201.659687      33.752994       0.478084   \n",
       "min                0.000000          0.000000       0.050000       0.000000   \n",
       "25%              216.000000        210.000000       4.480000       0.000000   \n",
       "50%              420.000000        402.000000      12.140000       1.000000   \n",
       "75%              546.000000        552.000000      19.860000       1.000000   \n",
       "max              714.000000        714.000000    1062.280000       1.000000   \n",
       "\n",
       "                 age  became_member_on         income     difficulty  \\\n",
       "count  927973.000000     927973.000000  927973.000000  927954.000000   \n",
       "mean       53.063404       2016.296527   62852.702611       7.894959   \n",
       "std        17.730212          1.205859   20682.694381       4.856883   \n",
       "min        18.000000       2013.000000   30000.000000       0.000000   \n",
       "25%        40.000000       2016.000000   47000.000000       5.000000   \n",
       "50%        54.000000       2017.000000   61000.000000      10.000000   \n",
       "75%        66.000000       2017.000000   75000.000000      10.000000   \n",
       "max       101.000000       2018.000000  120000.000000      20.000000   \n",
       "\n",
       "            duration         reward     email            web         mobile  \\\n",
       "count  927954.000000  927954.000000  927954.0  927954.000000  927954.000000   \n",
       "mean        6.691847       4.439192       1.0       0.809229       0.925799   \n",
       "std         2.127882       3.368611       0.0       0.392909       0.262098   \n",
       "min         3.000000       0.000000       1.0       0.000000       0.000000   \n",
       "25%         5.000000       2.000000       1.0       1.000000       1.000000   \n",
       "50%         7.000000       3.000000       1.0       1.000000       1.000000   \n",
       "75%         7.000000       5.000000       1.0       1.000000       1.000000   \n",
       "max        10.000000      10.000000       1.0       1.000000       1.000000   \n",
       "\n",
       "              social  \n",
       "count  927954.000000  \n",
       "mean        0.682374  \n",
       "std         0.465553  \n",
       "min         0.000000  \n",
       "25%         0.000000  \n",
       "50%         1.000000  \n",
       "75%         1.000000  \n",
       "max         1.000000  "
      ]
     },
     "execution_count": 43,
     "metadata": {},
     "output_type": "execute_result"
    }
   ],
   "source": [
    "# Update the df to exclude the above-discussed 118 years old customers  \n",
    "df = df[df['age'] < 118]\n",
    "\n",
    "# Take another look at the new df file\n",
    "df.describe()"
   ]
  },
  {
   "cell_type": "markdown",
   "metadata": {},
   "source": [
    "Now the statistics of the columns seems to be alright to me, so I will move on with the ETL process. "
   ]
  },
  {
   "cell_type": "markdown",
   "metadata": {},
   "source": [
    "### ETL process step 3: load\n",
    "\n",
    "So far I have created a clean dataset that is ready to be analyzed, I will complete the ETL process by exporting the cleaned dataset to a local disk for any future use. After this I can move on with data exploration. "
   ]
  },
  {
   "cell_type": "code",
   "execution_count": 70,
   "metadata": {},
   "outputs": [],
   "source": [
    "df.to_csv('data/starbucks_cleaned.csv', index=False)"
   ]
  },
  {
   "cell_type": "markdown",
   "metadata": {},
   "source": [
    "# Data Exploration\n",
    "\n",
    "In this part, I will explore some features in the dataset and build more intuition about the data using descriptive statistics and visualizations. \n",
    "\n",
    "Particularly, I am interested in the distributions of such features as 'age', 'gender', 'became_member_on', 'income', and their relationships with 'amount' and 'responded'.\n",
    "\n",
    "First of all, I will load the cleaned data created in the previous ETL process."
   ]
  },
  {
   "cell_type": "code",
   "execution_count": 71,
   "metadata": {},
   "outputs": [
    {
     "data": {
      "text/html": [
       "<div>\n",
       "<style scoped>\n",
       "    .dataframe tbody tr th:only-of-type {\n",
       "        vertical-align: middle;\n",
       "    }\n",
       "\n",
       "    .dataframe tbody tr th {\n",
       "        vertical-align: top;\n",
       "    }\n",
       "\n",
       "    .dataframe thead th {\n",
       "        text-align: right;\n",
       "    }\n",
       "</style>\n",
       "<table border=\"1\" class=\"dataframe\">\n",
       "  <thead>\n",
       "    <tr style=\"text-align: right;\">\n",
       "      <th></th>\n",
       "      <th>time_offer_received</th>\n",
       "      <th>customer_id</th>\n",
       "      <th>offer_id</th>\n",
       "      <th>time_offer_viewed</th>\n",
       "      <th>time_offer_completed</th>\n",
       "      <th>time_transaction</th>\n",
       "      <th>amount</th>\n",
       "      <th>responded</th>\n",
       "      <th>age</th>\n",
       "      <th>became_member_on</th>\n",
       "      <th>gender</th>\n",
       "      <th>income</th>\n",
       "      <th>difficulty</th>\n",
       "      <th>duration</th>\n",
       "      <th>offer_type</th>\n",
       "      <th>reward</th>\n",
       "      <th>email</th>\n",
       "      <th>web</th>\n",
       "      <th>mobile</th>\n",
       "      <th>social</th>\n",
       "    </tr>\n",
       "  </thead>\n",
       "  <tbody>\n",
       "    <tr>\n",
       "      <th>0</th>\n",
       "      <td>0.0</td>\n",
       "      <td>4</td>\n",
       "      <td>4.0</td>\n",
       "      <td>6.0</td>\n",
       "      <td>132.0</td>\n",
       "      <td>132.0</td>\n",
       "      <td>19.89</td>\n",
       "      <td>1</td>\n",
       "      <td>75</td>\n",
       "      <td>2017</td>\n",
       "      <td>F</td>\n",
       "      <td>100000.0</td>\n",
       "      <td>5.0</td>\n",
       "      <td>7.0</td>\n",
       "      <td>bogo</td>\n",
       "      <td>5.0</td>\n",
       "      <td>1.0</td>\n",
       "      <td>1.0</td>\n",
       "      <td>1.0</td>\n",
       "      <td>0.0</td>\n",
       "    </tr>\n",
       "    <tr>\n",
       "      <th>1</th>\n",
       "      <td>0.0</td>\n",
       "      <td>4</td>\n",
       "      <td>4.0</td>\n",
       "      <td>6.0</td>\n",
       "      <td>132.0</td>\n",
       "      <td>144.0</td>\n",
       "      <td>17.78</td>\n",
       "      <td>1</td>\n",
       "      <td>75</td>\n",
       "      <td>2017</td>\n",
       "      <td>F</td>\n",
       "      <td>100000.0</td>\n",
       "      <td>5.0</td>\n",
       "      <td>7.0</td>\n",
       "      <td>bogo</td>\n",
       "      <td>5.0</td>\n",
       "      <td>1.0</td>\n",
       "      <td>1.0</td>\n",
       "      <td>1.0</td>\n",
       "      <td>0.0</td>\n",
       "    </tr>\n",
       "    <tr>\n",
       "      <th>2</th>\n",
       "      <td>0.0</td>\n",
       "      <td>4</td>\n",
       "      <td>4.0</td>\n",
       "      <td>6.0</td>\n",
       "      <td>132.0</td>\n",
       "      <td>222.0</td>\n",
       "      <td>19.67</td>\n",
       "      <td>1</td>\n",
       "      <td>75</td>\n",
       "      <td>2017</td>\n",
       "      <td>F</td>\n",
       "      <td>100000.0</td>\n",
       "      <td>5.0</td>\n",
       "      <td>7.0</td>\n",
       "      <td>bogo</td>\n",
       "      <td>5.0</td>\n",
       "      <td>1.0</td>\n",
       "      <td>1.0</td>\n",
       "      <td>1.0</td>\n",
       "      <td>0.0</td>\n",
       "    </tr>\n",
       "    <tr>\n",
       "      <th>3</th>\n",
       "      <td>0.0</td>\n",
       "      <td>4</td>\n",
       "      <td>4.0</td>\n",
       "      <td>6.0</td>\n",
       "      <td>132.0</td>\n",
       "      <td>240.0</td>\n",
       "      <td>29.72</td>\n",
       "      <td>1</td>\n",
       "      <td>75</td>\n",
       "      <td>2017</td>\n",
       "      <td>F</td>\n",
       "      <td>100000.0</td>\n",
       "      <td>5.0</td>\n",
       "      <td>7.0</td>\n",
       "      <td>bogo</td>\n",
       "      <td>5.0</td>\n",
       "      <td>1.0</td>\n",
       "      <td>1.0</td>\n",
       "      <td>1.0</td>\n",
       "      <td>0.0</td>\n",
       "    </tr>\n",
       "    <tr>\n",
       "      <th>4</th>\n",
       "      <td>0.0</td>\n",
       "      <td>4</td>\n",
       "      <td>4.0</td>\n",
       "      <td>6.0</td>\n",
       "      <td>132.0</td>\n",
       "      <td>378.0</td>\n",
       "      <td>23.93</td>\n",
       "      <td>1</td>\n",
       "      <td>75</td>\n",
       "      <td>2017</td>\n",
       "      <td>F</td>\n",
       "      <td>100000.0</td>\n",
       "      <td>5.0</td>\n",
       "      <td>7.0</td>\n",
       "      <td>bogo</td>\n",
       "      <td>5.0</td>\n",
       "      <td>1.0</td>\n",
       "      <td>1.0</td>\n",
       "      <td>1.0</td>\n",
       "      <td>0.0</td>\n",
       "    </tr>\n",
       "  </tbody>\n",
       "</table>\n",
       "</div>"
      ],
      "text/plain": [
       "   time_offer_received  customer_id  offer_id  time_offer_viewed  \\\n",
       "0                  0.0            4       4.0                6.0   \n",
       "1                  0.0            4       4.0                6.0   \n",
       "2                  0.0            4       4.0                6.0   \n",
       "3                  0.0            4       4.0                6.0   \n",
       "4                  0.0            4       4.0                6.0   \n",
       "\n",
       "   time_offer_completed  time_transaction  amount  responded  age  \\\n",
       "0                 132.0             132.0   19.89          1   75   \n",
       "1                 132.0             144.0   17.78          1   75   \n",
       "2                 132.0             222.0   19.67          1   75   \n",
       "3                 132.0             240.0   29.72          1   75   \n",
       "4                 132.0             378.0   23.93          1   75   \n",
       "\n",
       "   became_member_on gender    income  difficulty  duration offer_type  reward  \\\n",
       "0              2017      F  100000.0         5.0       7.0       bogo     5.0   \n",
       "1              2017      F  100000.0         5.0       7.0       bogo     5.0   \n",
       "2              2017      F  100000.0         5.0       7.0       bogo     5.0   \n",
       "3              2017      F  100000.0         5.0       7.0       bogo     5.0   \n",
       "4              2017      F  100000.0         5.0       7.0       bogo     5.0   \n",
       "\n",
       "   email  web  mobile  social  \n",
       "0    1.0  1.0     1.0     0.0  \n",
       "1    1.0  1.0     1.0     0.0  \n",
       "2    1.0  1.0     1.0     0.0  \n",
       "3    1.0  1.0     1.0     0.0  \n",
       "4    1.0  1.0     1.0     0.0  "
      ]
     },
     "execution_count": 71,
     "metadata": {},
     "output_type": "execute_result"
    }
   ],
   "source": [
    "# Read in the cleaned data\n",
    "df = pd.read_csv('data/starbucks_cleaned.csv')\n",
    "df.head()"
   ]
  },
  {
   "cell_type": "markdown",
   "metadata": {},
   "source": [
    "### Missing data\n",
    "\n",
    "I decided that I would first take a look at the missing data in the dataset. Based on this, I can decide what to look at in the following data explorations.\n",
    "\n",
    "Now I would like to have a look at the missing data in the data before going further into exploring the data. Note that the portfolio file contains only 10 rows without any missing data."
   ]
  },
  {
   "cell_type": "code",
   "execution_count": 72,
   "metadata": {},
   "outputs": [
    {
     "data": {
      "text/plain": [
       "time_offer_received     0.000020\n",
       "customer_id             0.000000\n",
       "offer_id                0.000020\n",
       "time_offer_viewed       0.127729\n",
       "time_offer_completed    0.297384\n",
       "time_transaction        0.001974\n",
       "amount                  0.001974\n",
       "responded               0.000000\n",
       "age                     0.000000\n",
       "became_member_on        0.000000\n",
       "gender                  0.000000\n",
       "income                  0.000000\n",
       "difficulty              0.000020\n",
       "duration                0.000020\n",
       "offer_type              0.000020\n",
       "reward                  0.000020\n",
       "email                   0.000020\n",
       "web                     0.000020\n",
       "mobile                  0.000020\n",
       "social                  0.000020\n",
       "dtype: float64"
      ]
     },
     "execution_count": 72,
     "metadata": {},
     "output_type": "execute_result"
    }
   ],
   "source": [
    "df.isnull().mean()"
   ]
  },
  {
   "cell_type": "markdown",
   "metadata": {},
   "source": [
    "The demographic features such as age, gender, and income in the data don't have missing data, while all the time-related columns as well as the transaction column have missing data. \n",
    "\n",
    "This is to be expected, because not all customers received an offer, or viewed the offer, or made a transaction (and thus created a number in the 'amount' column), or completed the offer. In addition, some customers might have made a transaction or completed the offer without having received an offer or viewed it. In fact, what we are trying to find out from the data is exactly the hidden patterns behind these different customer groups. \n",
    "\n",
    "Columns from the original portfolio data also have missing data. As a matter of fact, they have the same amount of missing data as the 'offer_id' column. This is likely due to the fact that a small amount of customers who didn't receive any offer but made transactions. Overall, for now there are no big concerns regarding missing data in the dataset."
   ]
  },
  {
   "cell_type": "markdown",
   "metadata": {},
   "source": [
    "### Distribution of some demographic features of the cutomers"
   ]
  },
  {
   "cell_type": "code",
   "execution_count": 68,
   "metadata": {},
   "outputs": [
    {
     "data": {
      "text/plain": [
       "Text(0.5, 0, 'Year of becoming member')"
      ]
     },
     "execution_count": 68,
     "metadata": {},
     "output_type": "execute_result"
    },
    {
     "data": {
      "image/png": "[encoded data removed]",
      "text/plain": [
       "<Figure size 432x288 with 3 Axes>"
      ]
     },
     "metadata": {
      "needs_background": "light"
     },
     "output_type": "display_data"
    }
   ],
   "source": [
    "# Visualize the distribution of the age, income, and year of becoming member of the customers\n",
    "fig, axis = plt.subplots(1, 3)\n",
    "plt.subplots_adjust(wspace=0.4, hspace=0.4, top=1.0, right=1.8)\n",
    "\n",
    "ax_1 = df['age'].plot.hist(ax=axis[0], bins=20)\n",
    "ax_2 = df['income'].plot.hist(ax=axis[1], bins=20)\n",
    "ax_3 = df['became_member_on'].plot.hist(ax=axis[2], bins=6)\n",
    "\n",
    "ax_1.set_xlabel('Age')\n",
    "ax_2.set_xlabel('Income')\n",
    "ax_2.set_title('Distribution of age, income, and year of becoming member')\n",
    "ax_3.set_xlabel('Year of becoming member')"
   ]
  },
  {
   "cell_type": "markdown",
   "metadata": {},
   "source": [
    "Most of the customers were between 35 to 75 years old, the main income range of the customers was within 40k-75k dollars, and the majority of the customers in this experiment became members after 2015. \n",
    "\n",
    "Note that there were the most customers who became members in 2017 followed by 2016, possibly due to the expansion of the business into new markets or some other factors such as new marketing strategies which caused an increase in the number of members in these two years. "
   ]
  },
  {
   "cell_type": "markdown",
   "metadata": {},
   "source": [
    "### Demographic features, offer types, and channels vs. response"
   ]
  },
  {
   "cell_type": "code",
   "execution_count": 127,
   "metadata": {},
   "outputs": [
    {
     "name": "stdout",
     "output_type": "stream",
     "text": [
      "Mean age in response vs. no-response groups: responded\n",
      "0    51.408557\n",
      "1    53.968619\n",
      "Name: age, dtype: float64\n",
      "\n",
      "Mean income in response vs. no-response groups: responded\n",
      "0    58627.886494\n",
      "1    65163.712595\n",
      "Name: income, dtype: float64\n",
      "\n",
      "Response rate for customers who became menbers in different years became_member_on\n",
      "2013    0.546505\n",
      "2014    0.529686\n",
      "2015    0.680716\n",
      "2016    0.725323\n",
      "2017    0.660626\n",
      "2018    0.492933\n",
      "Name: responded, dtype: float64\n",
      "\n",
      "Response rate in different genders gender\n",
      "F    0.701842\n",
      "M    0.604663\n",
      "O    0.721570\n",
      "Name: responded, dtype: float64\n",
      "\n",
      "Response rate to different offer types: offer_type\n",
      "bogo             0.722768\n",
      "discount         0.785644\n",
      "informational    0.000000\n",
      "Name: responded, dtype: float64\n",
      "\n",
      "Response rates to different channels are email: 0.65, web: 0.7, mobile: 0.66, and social: 0.73\n",
      "\n",
      "The amount of money spent by different responsive groups: responded\n",
      "0    11.158633\n",
      "1    17.119849\n",
      "Name: amount, dtype: float64\n"
     ]
    }
   ],
   "source": [
    "# Note that responded = 1 means responded and responded =0 means the customer didn't respond\n",
    "\n",
    "# Response rate in different demographic groups\n",
    "age_mean = df.groupby('responded').age.mean()\n",
    "income_mean = df.groupby('responded').income.mean()\n",
    "became_member_on_percent = df.groupby('became_member_on').responded.mean()\n",
    "gender_percent = df.groupby('gender').responded.mean()\n",
    "\n",
    "# Response rate to different offer types\n",
    "offer_type = df.groupby('offer_type').responded.mean()\n",
    "\n",
    "# Response rate to different channels\n",
    "email_response = np.round(df[df['email'] == 1]['responded'].mean(),2)\n",
    "web_response = np.round(df[df['web'] == 1]['responded'].mean(),2)\n",
    "mobile_response = np.round(df[df['mobile'] == 1]['responded'].mean(),2)\n",
    "social_response = np.round(df[df['social'] == 1]['responded'].mean(),2)\n",
    "\n",
    "# Amount of money spent by different response groups\n",
    "amount = df.groupby('responded').amount.mean()\n",
    "\n",
    "print('Mean age in response vs. no-response groups: {}'.format(age_mean))\n",
    "print('')\n",
    "print('Mean income in response vs. no-response groups: {}'.format(income_mean))\n",
    "print('')\n",
    "print('Response rate for customers who became menbers in different years {}'.format(became_member_on_percent))\n",
    "print('')\n",
    "print('Response rate in different genders {}'.format(gender_percent))\n",
    "print('')\n",
    "print('Response rate to different offer types: {}'.format(offer_type))\n",
    "print('')\n",
    "print('Response rates to different channels are email: {}, web: {}, mobile: {}, and social: {}'.\\\n",
    "      format(email_response, web_response, mobile_response, social_response))\n",
    "print('')\n",
    "print('The amount of money spent by different responsive groups: {}'.format(amount))"
   ]
  },
  {
   "cell_type": "markdown",
   "metadata": {},
   "source": [
    "#### Summaries\n",
    "\n",
    "The mean age seemed to differ only slightly between the responsive and unresponsive groups, with a mean age of about 51 in the unresponsive group and 54 in the responsive group. \n",
    "\n",
    "Other other hand, responsive customers seemed to have a higher mean income of 65k dollars than their unresponsive fellows whose mean income is about 59k dollars. \n",
    "\n",
    "Customers who became members during 2015-2017 appeared to have higher response rates than thos who obtained membership in other years. \n",
    "\n",
    "In addition, gender also seemed to matter, with a response rate of about 70% from female customers as opposed to about 60% from their male counterparts. Note that the 'O' gender might refer to those who don't want to provide their gender information or they don't consider themselves as either female or male in the conventional way. These customers seemed to have a even higher response rate (72%) than customers of other genders.\n",
    "\n",
    "Customers also reponded to differnt offer types differently as well, with discount having about 79% response and bogo having 72%. Informational offers did not seem to relate to any responses, which is more or less unexpected but still kind of understandable. \n",
    "\n",
    "Different channels seemed to be correlated to differnt levels of response rates as well, with 70% and 73% response rates to the web and social media channels, respectively. Email and mobile channels, on the other hand, had similar response rates as 65% and 66%, respectively.\n",
    "\n",
    "Finally, responsive customers spent 17 dollars on average compared to 11 dollars spent by unresponsive customers. \n",
    "\n",
    "Based on these results, I will visualize the relationships between our interested metrics including response, offer types, offer channels,and  amount of money spent by the cutomers and some demographic features particularly including income, age, joining year (year of becoming members), and gender."
   ]
  },
  {
   "cell_type": "markdown",
   "metadata": {},
   "source": [
    "### Visualizations: different features vs. response rate"
   ]
  },
  {
   "cell_type": "markdown",
   "metadata": {},
   "source": [
    "Because the data structure in the df data makes it tricky to visualize the distribution of response rate to differnt channels, I will create a dataframe called channel which has a new column 'channel' containing different channel names."
   ]
  },
  {
   "cell_type": "code",
   "execution_count": 106,
   "metadata": {},
   "outputs": [],
   "source": [
    "# Create subsets for each channel\n",
    "email = df[df['email'] == 1].copy()\n",
    "web = df[df['web'] == 1].copy()\n",
    "mobile = df[df['mobile'] == 1].copy()\n",
    "social = df[df['social'] == 1].copy()\n",
    "\n",
    "# Create a column called 'channel' containing the channel names\n",
    "email['channel'] = 'email'\n",
    "web['channel'] = 'web'\n",
    "mobile['channel'] = 'mobile'\n",
    "social['channel'] = 'social'\n",
    "\n",
    "# Create a channel dataframe from the subsets\n",
    "channel = pd.concat([email, web, mobile, social], axis=0)"
   ]
  },
  {
   "cell_type": "code",
   "execution_count": 108,
   "metadata": {},
   "outputs": [
    {
     "data": {
      "image/png": "[encoded data removed]",
      "text/plain": [
       "<Figure size 432x288 with 4 Axes>"
      ]
     },
     "metadata": {
      "needs_background": "light"
     },
     "output_type": "display_data"
    }
   ],
   "source": [
    "# Response rate in differnt gender, joining time, and offer type groups\n",
    "fig, axis = plt.subplots(2, 2)\n",
    "plt.subplots_adjust(wspace=0.4, hspace=0.4, top=1.5, right=1.8)\n",
    "\n",
    "ax1 = sns.barplot(x=df['gender'], y=df['responded'], capsize=.1, ax=axis[0,0])\n",
    "ax2 = sns.barplot(x=df['became_member_on'], y=df['responded'],  capsize=.1, ax=axis[0,1])\n",
    "ax3 = sns.barplot(x=df['offer_type'], y=df['responded'], capsize=.1, ax=axis[1,0])\n",
    "ax4 = sns.barplot(x=channel['channel'], y=channel['responded'], capsize=.1, ax=axis[1,1])"
   ]
  },
  {
   "cell_type": "code",
   "execution_count": 133,
   "metadata": {},
   "outputs": [
    {
     "data": {
      "text/plain": [
       "<matplotlib.axes._subplots.AxesSubplot at 0x211a56068d0>"
      ]
     },
     "execution_count": 133,
     "metadata": {},
     "output_type": "execute_result"
    },
    {
     "data": {
      "image/png": "[encoded data removed]",
      "text/plain": [
       "<Figure size 432x288 with 2 Axes>"
      ]
     },
     "metadata": {
      "needs_background": "light"
     },
     "output_type": "display_data"
    }
   ],
   "source": [
    "# The mean of income and age in different response groups\n",
    "fig, axis = plt.subplots(1, 2)\n",
    "plt.subplots_adjust(wspace=0.4, hspace=0.4, top=1.0, right=1.5)\n",
    "\n",
    "sns.barplot(x=df['responded'], y=df['age'], capsize=.1, ax=axis[0])\n",
    "sns.barplot(x=df['responded'], y=df['income'], capsize=.1, ax=axis[1])"
   ]
  },
  {
   "cell_type": "markdown",
   "metadata": {},
   "source": [
    "### Demographic features vs. offer types"
   ]
  },
  {
   "cell_type": "code",
   "execution_count": 116,
   "metadata": {},
   "outputs": [
    {
     "data": {
      "text/plain": [
       "<matplotlib.legend.Legend at 0x211a50e14e0>"
      ]
     },
     "execution_count": 116,
     "metadata": {},
     "output_type": "execute_result"
    },
    {
     "data": {
      "image/png": "[encoded data removed]",
      "text/plain": [
       "<Figure size 432x288 with 2 Axes>"
      ]
     },
     "metadata": {
      "needs_background": "light"
     },
     "output_type": "display_data"
    }
   ],
   "source": [
    "# Response rate in different gender and joining time groups grouped by offer types\n",
    "fig, axis = plt.subplots(1, 2)\n",
    "plt.subplots_adjust(wspace=0.4, hspace=0.4, top=1.0, right=1.8)\n",
    "\n",
    "ax1 = sns.barplot(x=df['offer_type'], y=df['responded'], hue=df['gender'], capsize=.1, ax=axis[0])\n",
    "ax2 = sns.barplot(x=df['offer_type'], y=df['responded'], hue=df['became_member_on'], capsize=.1, ax=axis[1])\n",
    "\n",
    "ax1.legend(bbox_to_anchor=(1.0, 1.02))\n",
    "ax2.legend(bbox_to_anchor=(1.0, 1.02))"
   ]
  },
  {
   "cell_type": "code",
   "execution_count": 118,
   "metadata": {},
   "outputs": [
    {
     "data": {
      "text/plain": [
       "<matplotlib.legend.Legend at 0x211a527cd68>"
      ]
     },
     "execution_count": 118,
     "metadata": {},
     "output_type": "execute_result"
    },
    {
     "data": {
      "image/png": "[encoded data removed]",
      "text/plain": [
       "<Figure size 432x288 with 2 Axes>"
      ]
     },
     "metadata": {
      "needs_background": "light"
     },
     "output_type": "display_data"
    }
   ],
   "source": [
    "# The relationship between income, age, offer types, and response \n",
    "fig, axis = plt.subplots(1, 2)\n",
    "plt.subplots_adjust(wspace=0.4, hspace=0.4, top=1.0, right=1.8)\n",
    "\n",
    "ax1 = sns.barplot(x=df['offer_type'], y=df['age'], hue=df['responded'], capsize=.1, ax=axis[0])\n",
    "ax2 = sns.barplot(x=df['offer_type'], y=df['income'], hue=df['responded'], capsize=.1, ax=axis[1])\n",
    "\n",
    "ax1.legend(bbox_to_anchor=(1.17, 1.02))\n",
    "ax2.legend(bbox_to_anchor=(1.17, 1.02))"
   ]
  },
  {
   "cell_type": "markdown",
   "metadata": {},
   "source": [
    "### Demographic features vs. channels"
   ]
  },
  {
   "cell_type": "code",
   "execution_count": 115,
   "metadata": {},
   "outputs": [
    {
     "data": {
      "text/plain": [
       "<matplotlib.legend.Legend at 0x211a49ce3c8>"
      ]
     },
     "execution_count": 115,
     "metadata": {},
     "output_type": "execute_result"
    },
    {
     "data": {
      "image/png": "[encoded data removed]",
      "text/plain": [
       "<Figure size 432x288 with 2 Axes>"
      ]
     },
     "metadata": {
      "needs_background": "light"
     },
     "output_type": "display_data"
    }
   ],
   "source": [
    "# Response rate in different gender and joining time groups grouped by channels\n",
    "fig, axis = plt.subplots(1, 2)\n",
    "plt.subplots_adjust(wspace=0.4, hspace=0.4, top=1.0, right=1.8)\n",
    "\n",
    "ax1 = sns.barplot(x=channel['channel'], y=channel['responded'], hue=channel['gender'], capsize=.1, ax=axis[0])\n",
    "ax2 = sns.barplot(x=channel['channel'], y=channel['responded'], hue=channel['became_member_on'], capsize=.1, ax=axis[1])\n",
    "\n",
    "ax1.legend(bbox_to_anchor=(1.0, 1.02))\n",
    "ax2.legend(bbox_to_anchor=(1.0, 1.02))"
   ]
  },
  {
   "cell_type": "code",
   "execution_count": 119,
   "metadata": {},
   "outputs": [
    {
     "data": {
      "text/plain": [
       "<matplotlib.legend.Legend at 0x211a5277b00>"
      ]
     },
     "execution_count": 119,
     "metadata": {},
     "output_type": "execute_result"
    },
    {
     "data": {
      "image/png": "[encoded data removed]",
      "text/plain": [
       "<Figure size 432x288 with 2 Axes>"
      ]
     },
     "metadata": {
      "needs_background": "light"
     },
     "output_type": "display_data"
    }
   ],
   "source": [
    "# The relationship between income, age, offer types, and response \n",
    "fig, axis = plt.subplots(1, 2)\n",
    "plt.subplots_adjust(wspace=0.4, hspace=0.4, top=1.0, right=1.8)\n",
    "\n",
    "ax1 = sns.barplot(x=channel['channel'], y=channel['age'], hue=channel['responded'], capsize=.1, ax=axis[0])\n",
    "ax2 = sns.barplot(x=channel['channel'], y=channel['income'], hue=channel['responded'], capsize=.1, ax=axis[1])\n",
    "\n",
    "ax1.legend(bbox_to_anchor=(1.17, 1.02))\n",
    "ax2.legend(bbox_to_anchor=(1.17, 1.02))"
   ]
  },
  {
   "cell_type": "markdown",
   "metadata": {},
   "source": [
    "### The amount of money spent"
   ]
  },
  {
   "cell_type": "code",
   "execution_count": 129,
   "metadata": {},
   "outputs": [
    {
     "data": {
      "text/plain": [
       "<matplotlib.axes._subplots.AxesSubplot at 0x211a507c208>"
      ]
     },
     "execution_count": 129,
     "metadata": {},
     "output_type": "execute_result"
    },
    {
     "data": {
      "image/png": "[encoded data removed]",
      "text/plain": [
       "<Figure size 432x288 with 1 Axes>"
      ]
     },
     "metadata": {
      "needs_background": "light"
     },
     "output_type": "display_data"
    }
   ],
   "source": [
    "# The mean amount of money spent by different response groups\n",
    "sns.barplot(x=df['responded'], y=df['amount'], capsize=.1)"
   ]
  },
  {
   "cell_type": "code",
   "execution_count": 130,
   "metadata": {},
   "outputs": [
    {
     "data": {
      "text/plain": [
       "<matplotlib.axes._subplots.AxesSubplot at 0x211a5558438>"
      ]
     },
     "execution_count": 130,
     "metadata": {},
     "output_type": "execute_result"
    },
    {
     "data": {
      "image/png": "[encoded data removed]",
      "text/plain": [
       "<Figure size 432x288 with 4 Axes>"
      ]
     },
     "metadata": {
      "needs_background": "light"
     },
     "output_type": "display_data"
    }
   ],
   "source": [
    "# The mean amount of money spent by differnt genders, joining time, offer types, and channels\n",
    "fig, axis = plt.subplots(2, 2)\n",
    "plt.subplots_adjust(wspace=0.4, hspace=0.4, top=1.5, right=1.8)\n",
    "\n",
    "sns.barplot(x=df['gender'], y=df['amount'], capsize=.1, ax=axis[0,0])\n",
    "sns.barplot(x=df['became_member_on'], y=df['amount'], capsize=.1, ax=axis[0,1])\n",
    "sns.barplot(x=df['offer_type'], y=df['amount'], capsize=.1, ax=axis[1,0])\n",
    "sns.barplot(x=channel['channel'], y=channel['amount'], capsize=.1, ax=axis[1,1])"
   ]
  },
  {
   "cell_type": "code",
   "execution_count": 128,
   "metadata": {},
   "outputs": [
    {
     "data": {
      "text/plain": [
       "<matplotlib.legend.Legend at 0x211a547c828>"
      ]
     },
     "execution_count": 128,
     "metadata": {},
     "output_type": "execute_result"
    },
    {
     "data": {
      "image/png": "[encoded data removed]",
      "text/plain": [
       "<Figure size 432x288 with 2 Axes>"
      ]
     },
     "metadata": {
      "needs_background": "light"
     },
     "output_type": "display_data"
    }
   ],
   "source": [
    "# The amount of money spent by customers of different income and ages\n",
    "fig, axis = plt.subplots(1, 2)\n",
    "plt.subplots_adjust(wspace=0.4, hspace=0.4, top=1.0, right=2.0)\n",
    "\n",
    "ax1 = sns.scatterplot(x=df['age'], y=df['amount'], size=df['amount'], ax=axis[0])\n",
    "ax2 = sns.scatterplot(x=df['income'], y=df['amount'], size=df['amount'], ax=axis[1])\n",
    "\n",
    "ax1.legend(bbox_to_anchor=(1.0, 1.02))\n",
    "ax2.legend(bbox_to_anchor=(1.0, 1.02))"
   ]
  },
  {
   "cell_type": "markdown",
   "metadata": {},
   "source": [
    "Based on the previous analysis and visuliaztions, we could put the results together and draw some tentative conclusions in response to our business questions. Note that the demographic features in this project include age, gender, income, and joining year (became_member_on)."
   ]
  },
  {
   "cell_type": "markdown",
   "metadata": {},
   "source": [
    "### Results\n",
    "\n",
    "#### Who were more likely to respond?\n",
    "\n",
    "Customers' gender, joining year (became_member_on), income, and age all seemed to affect the response rate, although it's notable that the difference in the mean age between the response and non-response groups was only three year old.\n",
    "\n",
    "Overall, customers who were female, became members during 2015-2017, and had higher income were more likely to respond to the offers than others.\n",
    "\n",
    "#### Which offer types had the most response?\n",
    "\n",
    "Overall, discount offers seemed to have higher response rates compared to bogo offers. Informational offers didn't seem to relate to any responses, so I won't discuss this type further with differnt demographic features.  \n",
    "\n",
    "- **Gender**\n",
    "\n",
    "Female and 'O' customers had higher response rates than male customers to both bogo and discount offers, and this trend is stronger for bogo offers. \n",
    "\n",
    "The reason for this was that female as well as 'O' customers seemed to respond similarly to different offer types, whereas male customers seemed to respond more to discount offers than bogo offers.\n",
    "\n",
    "- **Joining year**\n",
    "\n",
    "Bogo offers appeared to have higher response rates from customers who became members during 2015-2017 than those who became member in other years. \n",
    "\n",
    "Discount offers, on the other hand, had relatively similar response rates from customers who became members during 2013-2017, with customers from 2018 having the a much lower response rate compared to those from other years.\n",
    "\n",
    "- **Age and income**\n",
    "\n",
    "For both bogo and discount offers, responsive customers seemed to have older ages and higher income than their unresponsive counterparts, and the income difference was bigger between responsive and unresponsive groups than the age differnce. \n",
    "\n",
    "In addition, the difference between response groups was bigger for bogo offers than for discount offers.\n",
    "\n",
    "#### Which channels had the most response?\n",
    "\n",
    "In general, social media and web appeared to have higher response rates (73% and 70%, respectively) than mobile and email channels (66% and 65%, respectively). \n",
    "\n",
    "- **Gender** \n",
    "\n",
    "Female and 'O' customers seemed to have higher response rates than male customers for all channels, and all three genders responded more to social media offers and web than to mobile and email. \n",
    "\n",
    "However, unlike the general trend in which social median had the highest response rate, 'O' customers seemed to have the highest response rate to web offers, indicating a close connection between customers from this gender group and web.\n",
    "\n",
    "- **Joining year**\n",
    "\n",
    "For all channels, customers who became members during 2015-2017 appeared to have higher response rates than those who became members in other years. Channels didn't seem to affect this trend among joining years.\n",
    "\n",
    "- **Age and income**\n",
    "\n",
    "Similar to offer types, all channels seemed to have older ages and higher income in the responsive group compared to the unresponsive group, and income difference was bigger between responsive and unresponsive groups than the age differnce.  \n",
    "\n",
    "\n",
    "#### Who were more likely to spend more?\n",
    "\n",
    "Overall, customers who responded to the offers seemed to spend more money on average (about 17 dollars) than those who didn't respond (about 11 dollars), suggesting that it is indeed important to take measures to improve the response rate.\n",
    "\n",
    "- **Gender**\n",
    "\n",
    "Female customers seemed to spend the most, followed by 'O' and male customers. \n",
    "\n",
    "- **Joining year**\n",
    "\n",
    "Customers who became members during 2015-2018 seemed to spend more than thos who bemame members earlier than 2015.\n",
    "\n",
    "- **Age and income**\n",
    "\n",
    "Age didn't seem to have a strong correlation with the amount of money spent, although customers between 55 and 65 years old seemed to spend the most and those who were younger than 40 seemed to spend less than others. As for income, the trend seemed to be quite strong that oder peole spent more than younger customers.\n",
    "\n",
    "- **Offer types**\n",
    "\n",
    "Customers who received bogo offers seemed to spend more than those who received discount offers, with those who received informational offers spending the least, although the difference was rather small among different offer types.\n",
    "\n",
    "- **Channels**\n",
    "\n",
    "Different channels didn't seem to affect the amount of money spent, with customers from all channels having a mean of about 15 dollars. "
   ]
  },
  {
   "cell_type": "markdown",
   "metadata": {},
   "source": [
    "### Conclusions and Suggestions\n",
    "\n",
    "In order to increase revenues, it makes sense for the company to promote the response rate, because people who responded indeed seemed to spend more than those who didn't respond. Particularly, the response rate could be improved through two aspects, including (1) identify customers with certain demographic features and (2) customize offers for different demographic groups by adjusting offer types and channels to deliver the offers.\n",
    "\n",
    "**Demographic features**\n",
    "\n",
    "The company might want to primarily focus on female customers and people with higher income. They are more responsive to offers and they also spend more than other. \n",
    "\n",
    "Age didn't seem to be a good indicator for either the response rate or amount of money spent according to the data, although the company might want to consider that peole around 55-65 spend more on average when constructing strategies. \n",
    "\n",
    "Finally, people who became members during 2015-2017 responed more and spent more than those who became member in other years, suggesting that the company might want to investigate into what made these three years different from other years. Were there new markets developed or were there any strategies applied during these years? Understanding the reason behind this year would be helpful for the company to improve its offer response rates. \n",
    "\n",
    "**Offer strategies**\n",
    "\n",
    "In general, sending discount offers through social media seem to be the most promising way for the company to get a higer response rate. This is especially important for male customers, because they tend to respond more to the discounts while other genders don't have such a big different response rate to bogos and discounts.  \n",
    "\n",
    "It's worthy mentioning that although discounts and social media had higher response rates in my analyis, people who received bogos actually spent slightly more than those who received discount and informational offers, and the amount of money spent by people from different channels was similar. This suggests that when trying to achieve a higher response rate, it is also important to factor in the cost of making these offers.  "
   ]
  },
  {
   "cell_type": "markdown",
   "metadata": {},
   "source": [
    "# Data Modeling and Evaluation\n",
    "\n",
    "In this part I will build a machine learning pipeline to predict the response of the customers. \n",
    "\n",
    "Logistic regressions will the proper way to make predictions in this situation, because I am predicting whether or not a customer will respond to offers. Specifically, I will build a machine learning pipeline to chain a PCA and a logistic regression. In order to improve the performance of the model, I will also use GridSearchCV in the process."
   ]
  },
  {
   "cell_type": "code",
   "execution_count": 149,
   "metadata": {},
   "outputs": [],
   "source": [
    "# Write a function to prepare X and y \n",
    "def prepare_data(df=df):\n",
    "    '''\n",
    "    INPUT - a dataframe df to draw our X and y from\n",
    "    OUTPUT - X and y, two dataframes for the following modeling\n",
    "    '''\n",
    "    # Read in the cleaned data\n",
    "    df = pd.read_csv('data/starbucks_cleaned.csv')\n",
    "    \n",
    "    # Create X and Y for the modeling\n",
    "    subset = df.drop(['time_offer_received', 'customer_id', 'offer_id', 'time_offer_viewed',\n",
    "           'time_offer_completed', 'time_transaction', 'amount'], axis=1)\n",
    "\n",
    "    # Drop the rows with missing data, which are rows for customers who didn't receive an offer as discussed before\n",
    "    subset = subset.dropna()\n",
    "\n",
    "    X = subset.drop('responded', axis=1)\n",
    "    y = subset['responded']\n",
    "    \n",
    "    # Create dummy variables for categorical features\n",
    "    join_time_cat = pd.get_dummies(X['became_member_on'], drop_first=True)\n",
    "    gender_cat = pd.get_dummies(X['gender'], drop_first=True)\n",
    "    offer_type_cat = pd.get_dummies(X['offer_type'], drop_first=True)\n",
    "\n",
    "    # Concat the dummy columns to X\n",
    "    X_1 = pd.concat([X, join_time_cat], axis=1).drop('became_member_on', axis=1)\n",
    "    X_2 = pd.concat([X_1, gender_cat], axis=1).drop('gender', axis=1)\n",
    "    X = pd.concat([X_2, offer_type_cat], axis=1).drop('offer_type', axis=1)\n",
    "\n",
    "    return X, y"
   ]
  },
  {
   "cell_type": "code",
   "execution_count": 150,
   "metadata": {},
   "outputs": [],
   "source": [
    "# Call the prepare_data function to create X and y\n",
    "X, y = prepare_data()\n",
    "\n",
    "# Split the data to train and test data\n",
    "X_train, X_test, y_train, y_test = train_test_split(X, y, test_size=0.33, random_state=42)"
   ]
  },
  {
   "cell_type": "code",
   "execution_count": 151,
   "metadata": {},
   "outputs": [
    {
     "name": "stdout",
     "output_type": "stream",
     "text": [
      "              precision    recall  f1-score   support\n",
      "\n",
      "           0       0.63      0.41      0.50    163577\n",
      "           1       0.52      0.72      0.60    142648\n",
      "\n",
      "    accuracy                           0.56    306225\n",
      "   macro avg       0.57      0.57      0.55    306225\n",
      "weighted avg       0.58      0.56      0.55    306225\n",
      "\n"
     ]
    }
   ],
   "source": [
    "# Build a machine learning pipeline to chain a PCA and a SGDClassifier for the prediction\n",
    "logistic = SGDClassifier(loss='log', penalty='l2', early_stopping=True,\n",
    "                         max_iter=10000, tol=1e-5, random_state=0)\n",
    "pca = PCA()\n",
    "pipeline = Pipeline(steps=[('pca', pca), ('logistic', logistic)])\n",
    "\n",
    "# Fit the model \n",
    "pipeline.fit(X_train, y_train)\n",
    "\n",
    "# Predict\n",
    "y_pred_1 = pipeline.predict(X_test)\n",
    "\n",
    "# Test the model\n",
    "print(classification_report(y_pred_1, y_test))"
   ]
  },
  {
   "cell_type": "markdown",
   "metadata": {},
   "source": [
    "A weighted average of precision of 0.58 is less than acceptable, so I will use GridSearchCV try to improve the predicting precision of the model."
   ]
  },
  {
   "cell_type": "code",
   "execution_count": 152,
   "metadata": {},
   "outputs": [
    {
     "name": "stdout",
     "output_type": "stream",
     "text": [
      "Fitting 5 folds for each of 25 candidates, totalling 125 fits\n"
     ]
    },
    {
     "name": "stderr",
     "output_type": "stream",
     "text": [
      "[Parallel(n_jobs=4)]: Using backend LokyBackend with 4 concurrent workers.\n",
      "[Parallel(n_jobs=4)]: Done  33 tasks      | elapsed:   53.9s\n",
      "[Parallel(n_jobs=4)]: Done 125 out of 125 | elapsed:  3.1min finished\n"
     ]
    },
    {
     "name": "stdout",
     "output_type": "stream",
     "text": [
      "              precision    recall  f1-score   support\n",
      "\n",
      "           0       0.68      0.41      0.51    180649\n",
      "           1       0.46      0.73      0.56    125576\n",
      "\n",
      "    accuracy                           0.54    306225\n",
      "   macro avg       0.57      0.57      0.54    306225\n",
      "weighted avg       0.59      0.54      0.53    306225\n",
      "\n"
     ]
    }
   ],
   "source": [
    "# Try to improve the model by using GridSearchCV\n",
    "param = {\n",
    "    'pca__n_components': [2, 6, 10, 12, 18],\n",
    "    'logistic__alpha': np.logspace(-4, 4, 5)\n",
    "}\n",
    "\n",
    "search = GridSearchCV(pipeline, param, iid=False, cv=5, n_jobs=4, verbose=2)\n",
    "\n",
    "# Fit the new model \n",
    "search.fit(X_train, y_train)\n",
    "\n",
    "# Predict\n",
    "y_pred_2 = search.predict(X_test)\n",
    "\n",
    "# Test the model\n",
    "print(classification_report(y_pred_2, y_test))"
   ]
  },
  {
   "cell_type": "markdown",
   "metadata": {},
   "source": [
    "Using grid search slightly increased the weighted average precision of the model from 0.58 to 0.59, which is not really a whole lot better. \n",
    "\n",
    "There are a few possible ways to improve the performance of the model, including trying other algorithms and add more features. I will try the LogisticRegression algorithm and see if ti can improve the performance or not."
   ]
  },
  {
   "cell_type": "code",
   "execution_count": 154,
   "metadata": {},
   "outputs": [
    {
     "name": "stderr",
     "output_type": "stream",
     "text": [
      "D:\\Anaconda3\\lib\\site-packages\\sklearn\\linear_model\\logistic.py:432: FutureWarning: Default solver will be changed to 'lbfgs' in 0.22. Specify a solver to silence this warning.\n",
      "  FutureWarning)\n"
     ]
    },
    {
     "name": "stdout",
     "output_type": "stream",
     "text": [
      "              precision    recall  f1-score   support\n",
      "\n",
      "           0       0.60      0.81      0.69     80682\n",
      "           1       0.92      0.81      0.86    225543\n",
      "\n",
      "    accuracy                           0.81    306225\n",
      "   macro avg       0.76      0.81      0.78    306225\n",
      "weighted avg       0.84      0.81      0.82    306225\n",
      "\n"
     ]
    }
   ],
   "source": [
    "# Build a pipeline to chain a PCA and a LogisticRegression for the prediction\n",
    "logistic = LogisticRegression()\n",
    "pca = PCA()\n",
    "pipeline_2 = Pipeline(steps=[('pca', pca), ('logistic', logistic)])\n",
    "\n",
    "# Fit the model\n",
    "pipeline_2.fit(X_train, y_train)\n",
    "\n",
    "# Predict\n",
    "y_pred_3 = pipeline_2.predict(X_test)\n",
    "\n",
    "# Test the model\n",
    "print(classification_report(y_pred_3, y_test))"
   ]
  },
  {
   "cell_type": "code",
   "execution_count": 155,
   "metadata": {},
   "outputs": [
    {
     "name": "stdout",
     "output_type": "stream",
     "text": [
      "Fitting 5 folds for each of 10 candidates, totalling 50 fits\n"
     ]
    },
    {
     "name": "stderr",
     "output_type": "stream",
     "text": [
      "[Parallel(n_jobs=4)]: Using backend LokyBackend with 4 concurrent workers.\n",
      "[Parallel(n_jobs=4)]: Done  33 tasks      | elapsed:  1.6min\n",
      "[Parallel(n_jobs=4)]: Done  50 out of  50 | elapsed:  2.6min finished\n",
      "D:\\Anaconda3\\lib\\site-packages\\sklearn\\linear_model\\logistic.py:432: FutureWarning: Default solver will be changed to 'lbfgs' in 0.22. Specify a solver to silence this warning.\n",
      "  FutureWarning)\n"
     ]
    },
    {
     "name": "stdout",
     "output_type": "stream",
     "text": [
      "              precision    recall  f1-score   support\n",
      "\n",
      "           0       0.55      0.85      0.67     69554\n",
      "           1       0.95      0.79      0.86    236671\n",
      "\n",
      "    accuracy                           0.81    306225\n",
      "   macro avg       0.75      0.82      0.76    306225\n",
      "weighted avg       0.86      0.81      0.82    306225\n",
      "\n"
     ]
    }
   ],
   "source": [
    "# Use GridSearchCV to improve the new pipeline\n",
    "param = {'pca__n_components': [2, 6, 10, 12, 18], \n",
    "         'logistic__C': [0.1, 10.]}\n",
    "\n",
    "search = GridSearchCV(pipeline_2, param, iid=False, cv=5, n_jobs=4, verbose=2)\n",
    "\n",
    "# Fit  \n",
    "search.fit(X_train, y_train)\n",
    "\n",
    "# Predict\n",
    "y_pred_4 = search.predict(X_test)\n",
    "\n",
    "# Test the model\n",
    "print(classification_report(y_pred_4, y_test))"
   ]
  },
  {
   "cell_type": "markdown",
   "metadata": {},
   "source": [
    "By using LogisticRegression instead of SGDClassifier, with the combination of GridSearchCV, the performance of the model was improved from 0.58 to 0.86, which is quite an improvement. This shows how important it is to select proper algorithms in modeling. \n",
    "\n",
    "By trying out other suitable algorithms, the performance of the model might be able to further improve. However, for now, I decide that I will move on to putting up the findings into a blog post on Medium."
   ]
  },
  {
   "cell_type": "markdown",
   "metadata": {},
   "source": [
    "# Deployment / Communications\n",
    "\n",
    "The findings of the above analysis will be put together into a blog post on Medium."
   ]
  }
 ],
 "metadata": {
  "kernelspec": {
   "display_name": "Python 3",
   "language": "python",
   "name": "python3"
  },
  "language_info": {
   "codemirror_mode": {
    "name": "ipython",
    "version": 3
   },
   "file_extension": ".py",
   "mimetype": "text/x-python",
   "name": "python",
   "nbconvert_exporter": "python",
   "pygments_lexer": "ipython3",
   "version": "3.7.3"
  }
 },
 "nbformat": 4,
 "nbformat_minor": 2
}
